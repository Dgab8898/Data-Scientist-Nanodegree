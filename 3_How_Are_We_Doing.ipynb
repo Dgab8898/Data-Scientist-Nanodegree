{
 "cells": [
  {
   "cell_type": "markdown",
   "metadata": {},
   "source": [
    "### How Are We Doing?\n",
    "\n",
    "In the last notebook, you created a working version of SVD for situations even when there are tons of missing values.  This is awesome!  The question now is how well does this solution work?\n",
    "\n",
    "In this notebook, we are going to simulate exactly what we would do in the real world to tune our recommender.  \n",
    "\n",
    "Run the cell below to read in the data and get started."
   ]
  },
  {
   "cell_type": "code",
   "execution_count": 1,
   "metadata": {},
   "outputs": [],
   "source": [
    "import numpy as np\n",
    "import pandas as pd\n",
    "\n",
    "# Read in the datasets\n",
    "movies = pd.read_csv('data/movies_clean.csv')\n",
    "reviews = pd.read_csv('data/reviews_clean.csv')\n",
    "\n",
    "del movies['Unnamed: 0']\n",
    "del reviews['Unnamed: 0']"
   ]
  },
  {
   "cell_type": "markdown",
   "metadata": {},
   "source": [
    "1. Using the **reviews** dataframe, perform the following tasks to create a training and validation set of data we can use to test the performance of your SVD algorithm using **off-line** validation techniques.\n",
    "\n",
    " * Order the reviews dataframe from earliest to most recent \n",
    " * Pull the first 10000 reviews from  the dataset\n",
    " * Make the first 8000/10000 reviews the training data \n",
    " * Make the last 2000/10000 the test data\n",
    " * Return the training and test datasets"
   ]
  },
  {
   "cell_type": "code",
   "execution_count": 2,
   "metadata": {},
   "outputs": [],
   "source": [
    "def create_train_test(reviews, order_by, training_size, testing_size):\n",
    "    '''    \n",
    "    INPUT:\n",
    "    reviews - (pandas df) dataframe to split into train and test\n",
    "    order_by - (string) column name to sort by\n",
    "    training_size - (int) number of rows in training set\n",
    "    testing_size - (int) number of columns in the test set\n",
    "    \n",
    "    OUTPUT:\n",
    "    training_df -  (pandas df) dataframe of the training set\n",
    "    validation_df - (pandas df) dataframe of the test set\n",
    "    '''\n",
    "    reviews.sort_values('date',  inplace= True)\n",
    "    # get firt 10000 reviews\n",
    "    reviews = reviews.head(10000)\n",
    "    training_df = reviews.head(8000)\n",
    "    validation_df = reviews.tail(2000)\n",
    "    return training_df, validation_df"
   ]
  },
  {
   "cell_type": "code",
   "execution_count": 3,
   "metadata": {},
   "outputs": [],
   "source": [
    "# Nothing to change in this or the next cell\n",
    "# Use our function to create training and test datasets\n",
    "train_df, val_df = create_train_test(reviews, 'date', 8000, 2000)"
   ]
  },
  {
   "cell_type": "code",
   "execution_count": 4,
   "metadata": {},
   "outputs": [
    {
     "name": "stdout",
     "output_type": "stream",
     "text": [
      "Nice job!  Looks like you have written a function that provides training and validation dataframes for you to use in the next steps.\n"
     ]
    }
   ],
   "source": [
    "# Make sure the dataframes we are using are the right shape\n",
    "assert train_df.shape[0] == 8000, \"The number of rows doesn't look right in the training dataset.\"\n",
    "assert val_df.shape[0] == 2000, \"The number of rows doesn't look right in the validation dataset\"\n",
    "assert str(train_df.tail(1)['date']).split()[1] == '2013-03-15', \"The last date in the training dataset doesn't look like what we expected.\"\n",
    "assert str(val_df.tail(1)['date']).split()[1] == '2013-03-18', \"The last date in the validation dataset doesn't look like what we expected.\"\n",
    "print(\"Nice job!  Looks like you have written a function that provides training and validation dataframes for you to use in the next steps.\")"
   ]
  },
  {
   "cell_type": "markdown",
   "metadata": {},
   "source": [
    "In the real world, we might have all of the data up to this final date in the training data.  Then we want to see how well we are doing for each of the new ratings, which show up in the test data.\n",
    "\n",
    "Below is a working example of the function created in the previous example you can use (or you can replace with your own).\n",
    "\n",
    "`2.`  Fit the function to the training data with the following hyperparameters: 15 latent features, a learning rate of 0.005, and 250 iterations. This will take some time to run, so you may choose fewer latent features, a higher learning rate, or fewer iteratios if you want to speed up the process.  \n",
    "\n",
    "**Note:** Again, this might be a good time to take a phone call, go for a walk, or just take a little break.  No need to change the code below unless you would like to make changes to reduce the time needed to obtain results."
   ]
  },
  {
   "cell_type": "code",
   "execution_count": 5,
   "metadata": {},
   "outputs": [],
   "source": [
    "def FunkSVD(ratings_mat, latent_features=12, learning_rate=0.0001, iters=100):\n",
    "    '''\n",
    "    This function performs matrix factorization using a basic form of FunkSVD with no regularization\n",
    "    \n",
    "    INPUT:\n",
    "    ratings_mat - (numpy array) a matrix with users as rows, movies as columns, and ratings as values\n",
    "    latent_features - (int) the number of latent features used\n",
    "    learning_rate - (float) the learning rate \n",
    "    iters - (int) the number of iterations\n",
    "    \n",
    "    OUTPUT:\n",
    "    user_mat - (numpy array) a user by latent feature matrix\n",
    "    movie_mat - (numpy array) a latent feature by movie matrix\n",
    "    '''\n",
    "    \n",
    "    # Set up useful values to be used through the rest of the function\n",
    "    n_users = ratings_mat.shape[0]\n",
    "    n_movies = ratings_mat.shape[1]\n",
    "    num_ratings = np.count_nonzero(~np.isnan(ratings_mat))\n",
    "    \n",
    "    # initialize the user and movie matrices with random values\n",
    "    user_mat = np.random.rand(n_users, latent_features)\n",
    "    movie_mat = np.random.rand(latent_features, n_movies)\n",
    "    \n",
    "    # initialize sse at 0 for first iteration\n",
    "    sse_accum = 0\n",
    "    \n",
    "    # keep track of iteration and MSE\n",
    "    print(\"Optimizaiton Statistics\")\n",
    "    print(\"Iterations | Mean Squared Error \")\n",
    "    \n",
    "    # for each iteration\n",
    "    for iteration in range(iters):\n",
    "\n",
    "        # update our sse\n",
    "        old_sse = sse_accum\n",
    "        sse_accum = 0\n",
    "        \n",
    "        # For each user-movie pair\n",
    "        for i in range(n_users):\n",
    "            for j in range(n_movies):\n",
    "                \n",
    "                # if the rating exists\n",
    "                if ratings_mat[i, j] > 0:\n",
    "                    \n",
    "                    # compute the error as the actual minus the dot product of the user and movie latent features\n",
    "                    diff = ratings_mat[i, j] - np.dot(user_mat[i, :], movie_mat[:, j])\n",
    "                    \n",
    "                    # Keep track of the sum of squared errors for the matrix\n",
    "                    sse_accum += diff**2\n",
    "                    \n",
    "                    # update the values in each matrix in the direction of the gradient\n",
    "                    for k in range(latent_features):\n",
    "                        user_mat[i, k] += learning_rate * (2*diff*movie_mat[k, j])\n",
    "                        movie_mat[k, j] += learning_rate * (2*diff*user_mat[i, k])\n",
    "\n",
    "        # print results\n",
    "        print(\"%d \\t\\t %f\" % (iteration+1, sse_accum / num_ratings))\n",
    "        \n",
    "    return user_mat, movie_mat "
   ]
  },
  {
   "cell_type": "code",
   "execution_count": null,
   "metadata": {},
   "outputs": [
    {
     "name": "stdout",
     "output_type": "stream",
     "text": [
      "Optimizaiton Statistics\n",
      "Iterations | Mean Squared Error \n",
      "1 \t\t 10.663834\n",
      "2 \t\t 5.967772\n",
      "3 \t\t 4.172797\n",
      "4 \t\t 3.122663\n",
      "5 \t\t 2.430219\n",
      "6 \t\t 1.939682\n",
      "7 \t\t 1.575781\n",
      "8 \t\t 1.297256\n",
      "9 \t\t 1.079253\n",
      "10 \t\t 0.905742\n",
      "11 \t\t 0.765844\n",
      "12 \t\t 0.651876\n",
      "13 \t\t 0.558227\n",
      "14 \t\t 0.480689\n",
      "15 \t\t 0.416040\n",
      "16 \t\t 0.361777\n",
      "17 \t\t 0.315944\n",
      "18 \t\t 0.276998\n",
      "19 \t\t 0.243719\n",
      "20 \t\t 0.215135\n",
      "21 \t\t 0.190468\n",
      "22 \t\t 0.169092\n",
      "23 \t\t 0.150495\n",
      "24 \t\t 0.134260\n",
      "25 \t\t 0.120042\n",
      "26 \t\t 0.107554\n",
      "27 \t\t 0.096556\n",
      "28 \t\t 0.086845\n",
      "29 \t\t 0.078251\n",
      "30 \t\t 0.070627\n",
      "31 \t\t 0.063851\n",
      "32 \t\t 0.057814\n",
      "33 \t\t 0.052427\n",
      "34 \t\t 0.047609\n",
      "35 \t\t 0.043294\n",
      "36 \t\t 0.039421\n",
      "37 \t\t 0.035940\n",
      "38 \t\t 0.032806\n",
      "39 \t\t 0.029981\n",
      "40 \t\t 0.027429\n",
      "41 \t\t 0.025121\n",
      "42 \t\t 0.023032\n",
      "43 \t\t 0.021137\n",
      "44 \t\t 0.019417\n",
      "45 \t\t 0.017853\n",
      "46 \t\t 0.016431\n",
      "47 \t\t 0.015134\n",
      "48 \t\t 0.013952\n",
      "49 \t\t 0.012873\n",
      "50 \t\t 0.011886\n",
      "51 \t\t 0.010984\n",
      "52 \t\t 0.010157\n",
      "53 \t\t 0.009400\n",
      "54 \t\t 0.008705\n",
      "55 \t\t 0.008068\n",
      "56 \t\t 0.007482\n",
      "57 \t\t 0.006943\n",
      "58 \t\t 0.006447\n",
      "59 \t\t 0.005990\n",
      "60 \t\t 0.005569\n",
      "61 \t\t 0.005181\n",
      "62 \t\t 0.004822\n",
      "63 \t\t 0.004491\n",
      "64 \t\t 0.004185\n",
      "65 \t\t 0.003902\n",
      "66 \t\t 0.003640\n",
      "67 \t\t 0.003398\n",
      "68 \t\t 0.003173\n",
      "69 \t\t 0.002964\n",
      "70 \t\t 0.002771\n",
      "71 \t\t 0.002591\n",
      "72 \t\t 0.002425\n",
      "73 \t\t 0.002270\n",
      "74 \t\t 0.002126\n",
      "75 \t\t 0.001992\n",
      "76 \t\t 0.001867\n",
      "77 \t\t 0.001751\n",
      "78 \t\t 0.001642\n",
      "79 \t\t 0.001542\n",
      "80 \t\t 0.001447\n",
      "81 \t\t 0.001360\n",
      "82 \t\t 0.001278\n",
      "83 \t\t 0.001201\n",
      "84 \t\t 0.001129\n",
      "85 \t\t 0.001063\n",
      "86 \t\t 0.001000\n",
      "87 \t\t 0.000941\n",
      "88 \t\t 0.000887\n",
      "89 \t\t 0.000835\n",
      "90 \t\t 0.000787\n",
      "91 \t\t 0.000742\n",
      "92 \t\t 0.000700\n",
      "93 \t\t 0.000660\n",
      "94 \t\t 0.000623\n",
      "95 \t\t 0.000588\n",
      "96 \t\t 0.000556\n",
      "97 \t\t 0.000525\n",
      "98 \t\t 0.000496\n",
      "99 \t\t 0.000469\n",
      "100 \t\t 0.000443\n",
      "101 \t\t 0.000419\n",
      "102 \t\t 0.000397\n",
      "103 \t\t 0.000375\n",
      "104 \t\t 0.000355\n",
      "105 \t\t 0.000336\n",
      "106 \t\t 0.000319\n",
      "107 \t\t 0.000302\n",
      "108 \t\t 0.000286\n",
      "109 \t\t 0.000271\n",
      "110 \t\t 0.000257\n",
      "111 \t\t 0.000244\n",
      "112 \t\t 0.000231\n",
      "113 \t\t 0.000219\n",
      "114 \t\t 0.000208\n",
      "115 \t\t 0.000198\n",
      "116 \t\t 0.000188\n",
      "117 \t\t 0.000178\n",
      "118 \t\t 0.000169\n",
      "119 \t\t 0.000161\n",
      "120 \t\t 0.000153\n",
      "121 \t\t 0.000145\n",
      "122 \t\t 0.000138\n",
      "123 \t\t 0.000131\n",
      "124 \t\t 0.000125\n",
      "125 \t\t 0.000119\n",
      "126 \t\t 0.000113\n",
      "127 \t\t 0.000108\n",
      "128 \t\t 0.000103\n",
      "129 \t\t 0.000098\n",
      "130 \t\t 0.000093\n",
      "131 \t\t 0.000089\n",
      "132 \t\t 0.000085\n",
      "133 \t\t 0.000081\n",
      "134 \t\t 0.000077\n",
      "135 \t\t 0.000073\n",
      "136 \t\t 0.000070\n",
      "137 \t\t 0.000067\n",
      "138 \t\t 0.000064\n"
     ]
    }
   ],
   "source": [
    "# Create user-by-item matrix - nothing to do here\n",
    "train_user_item = train_df[['user_id', 'movie_id', 'rating', 'timestamp']]\n",
    "train_data_df = train_user_item.groupby(['user_id', 'movie_id'])['rating'].max().unstack()\n",
    "train_data_np = np.array(train_data_df)\n",
    "\n",
    "# Fit FunkSVD with the specified hyper parameters to the training data\n",
    "user_mat, movie_mat = FunkSVD(train_data_np, latent_features=15, learning_rate=0.005, iters=250)"
   ]
  },
  {
   "cell_type": "markdown",
   "metadata": {},
   "source": [
    "Now that you have created the **user_mat** and **movie_mat**, we can use this to make predictions for how users would rate movies, by just computing the dot product of the row associated with a user and the column associated with the movie.\n",
    "\n",
    "`3.` Use the comments in the function below to complete the **predict_rating** function."
   ]
  },
  {
   "cell_type": "code",
   "execution_count": null,
   "metadata": {},
   "outputs": [],
   "source": [
    "def predict_rating(user_matrix, movie_matrix, user_id, movie_id):\n",
    "    '''\n",
    "    INPUT:\n",
    "    user_matrix - user by latent factor matrix\n",
    "    movie_matrix - latent factor by movie matrix\n",
    "    user_id - the user_id from the reviews df\n",
    "    movie_id - the movie_id according the movies df\n",
    "    \n",
    "    OUTPUT:\n",
    "    pred - the predicted rating for user_id-movie_id according to FunkSVD\n",
    "    '''\n",
    "    # Use the training data to create a series of users and movies that matches the ordering in training data\n",
    "    users_id_series = np.array(train_data_df.index)\n",
    "    movie_id_series = np.array(train_data_df.columns)\n",
    "    # User row and Movie Column\n",
    "    user_row = np.where(users_id_series == user_id)[0][0]\n",
    "    movie_column = np.where(movie_id_series == movie_id)[0][0]\n",
    "    # Take dot product of that row and column in U and V to make prediction\n",
    "    pred = np.dot(user_matrix[user_row,:], movie_matrix[:,movie_column])\n",
    "    return pred"
   ]
  },
  {
   "cell_type": "code",
   "execution_count": null,
   "metadata": {},
   "outputs": [],
   "source": [
    "# Test your function with the first user-movie in the user-movie matrix (notice this is a nan)\n",
    "pred_val = predict_rating(user_mat, movie_mat, 8, 2844)\n",
    "pred_val"
   ]
  },
  {
   "cell_type": "markdown",
   "metadata": {},
   "source": [
    "It is great that you now have a way to make predictions. However it might be nice to get a little phrase back about the user, movie, and rating.\n",
    "\n",
    "`4.` Use the comments in the function below to complete the **predict_rating** function.  \n",
    "\n",
    "**Note:** The movie name doesn't come back in a great format, so you can see in the solution I messed around with it a bit just to make it a little nicer."
   ]
  },
  {
   "cell_type": "code",
   "execution_count": null,
   "metadata": {},
   "outputs": [],
   "source": [
    "def print_prediction_summary(user_id, movie_id, prediction):\n",
    "    '''\n",
    "    INPUT:\n",
    "    user_id - the user_id from the reviews df\n",
    "    movie_id - the movie_id according the movies df\n",
    "    prediction - the predicted rating for user_id-movie_id\n",
    "    \n",
    "    OUTPUT:\n",
    "    None - prints a statement about the user, movie, and prediction made\n",
    "    \n",
    "    '''\n",
    "    movie_name = str(movies[movies[\"movie_id\"]== movie_id]['movie'])[5:]\n",
    "    movie_name = movie_name.replace(\"\\nName: movie, dtype: object\",\"\")\n",
    "    prediction = round(prediction,2)\n",
    "    print(\"{} rating {} for user {}\".format(movie_name,prediction, user_id))"
   ]
  },
  {
   "cell_type": "code",
   "execution_count": null,
   "metadata": {},
   "outputs": [],
   "source": [
    "# Test your function the the results of the previous function\n",
    "print_prediction_summary(8, 2844, pred_val)"
   ]
  },
  {
   "cell_type": "markdown",
   "metadata": {},
   "source": [
    "Now that we have the ability to make predictions, let's see how well our predictions do on the test ratings we already have.  This will give an indication of how well we have captured the latent features, and our ability to use the latent features to make predictions in the future!\n",
    "\n",
    "`5.` For each of the user-movie rating in the **val_df** dataset, compare the actual rating given to the prediction you would make.  How do your predictions do?  Do you run into any problems?  If yes, what is the problem?  Use the document strings and comments below to assist as you work through these questions."
   ]
  },
  {
   "cell_type": "code",
   "execution_count": null,
   "metadata": {},
   "outputs": [],
   "source": [
    "def validation_comparison(val_df, num_preds):\n",
    "    '''\n",
    "    INPUT:\n",
    "    val_df - the validation dataset created in the third cell above\n",
    "    num_preds - (int) the number of rows (going in order) you would like to make predictions for\n",
    "    \n",
    "    OUTPUT:\n",
    "    Nothing returned - print a statement about the prediciton made for each row of val_df from row 0 to num_preds\n",
    "    '''\n",
    "    val_users = np.array(val_df['user_id'])\n",
    "    val_movies = np.array(val_df['movie_id'])\n",
    "    val_ratings = np.array(val_df['rating'])\n",
    "    for row in range(num_preds):\n",
    "        prediction = predict_rating(user_mat, movie_mat, val_users[row], val_movies[row])\n",
    "        print(\"For user {} actual rating for movie {} is {} and predicted rating {}\".format(val_users[row],val_movies[row],val_ratings[row],prediction))\n",
    "# Perform the predicted vs. actual for the first 6 rows.  How does it look?\n",
    "validation_comparison(val_df, 6)        "
   ]
  },
  {
   "cell_type": "code",
   "execution_count": null,
   "metadata": {},
   "outputs": [],
   "source": [
    "# Perform the predicted vs. actual for the first 7 rows.  What happened?\n",
    "validation_comparison(val_df, 7)        "
   ]
  },
  {
   "cell_type": "markdown",
   "metadata": {},
   "source": [
    "** A statement about why you think what happened happened.**"
   ]
  },
  {
   "cell_type": "markdown",
   "metadata": {
    "collapsed": true
   },
   "source": [
    "The data don't have any information about the new user"
   ]
  }
 ],
 "metadata": {
  "kernelspec": {
   "display_name": "Python 3",
   "language": "python",
   "name": "python3"
  },
  "language_info": {
   "codemirror_mode": {
    "name": "ipython",
    "version": 3
   },
   "file_extension": ".py",
   "mimetype": "text/x-python",
   "name": "python",
   "nbconvert_exporter": "python",
   "pygments_lexer": "ipython3",
   "version": "3.7.3"
  }
 },
 "nbformat": 4,
 "nbformat_minor": 2
}
