{
 "cells": [
  {
   "cell_type": "markdown",
   "metadata": {},
   "source": [
    "# Data Wrangling with Spark\n",
    "\n",
    "This is the code used in the previous screencast. Run each code cell to understand what the code does and how it works.\n",
    "\n",
    "These first three cells import libraries, instantiate a SparkSession, and then read in the data set"
   ]
  },
  {
   "cell_type": "code",
   "execution_count": 1,
   "metadata": {},
   "outputs": [],
   "source": [
    "from pyspark.sql import SparkSession\n",
    "from pyspark.sql.functions import udf\n",
    "from pyspark.sql.types import StringType\n",
    "from pyspark.sql.types import IntegerType\n",
    "from pyspark.sql.functions import desc\n",
    "from pyspark.sql.functions import asc\n",
    "from pyspark.sql.functions import sum as Fsum\n",
    "\n",
    "import datetime\n",
    "\n",
    "import numpy as np\n",
    "import pandas as pd\n",
    "%matplotlib inline\n",
    "import matplotlib.pyplot as plt"
   ]
  },
  {
   "cell_type": "code",
   "execution_count": 2,
   "metadata": {},
   "outputs": [],
   "source": [
    "spark = SparkSession \\\n",
    "    .builder \\\n",
    "    .appName(\"Wrangling Data\") \\\n",
    "    .getOrCreate()"
   ]
  },
  {
   "cell_type": "code",
   "execution_count": 3,
   "metadata": {},
   "outputs": [],
   "source": [
    "path = \"data/sparkify_log_small.json\"\n",
    "user_log = spark.read.json(path)"
   ]
  },
  {
   "cell_type": "markdown",
   "metadata": {},
   "source": [
    "# Data Exploration \n",
    "\n",
    "The next cells explore the data set."
   ]
  },
  {
   "cell_type": "code",
   "execution_count": 4,
   "metadata": {},
   "outputs": [
    {
     "data": {
      "text/plain": [
       "[Row(artist=u'Showaddywaddy', auth=u'Logged In', firstName=u'Kenneth', gender=u'M', itemInSession=112, lastName=u'Matthews', length=232.93342, level=u'paid', location=u'Charlotte-Concord-Gastonia, NC-SC', method=u'PUT', page=u'NextSong', registration=1509380319284, sessionId=5132, song=u'Christmas Tears Will Fall', status=200, ts=1513720872284, userAgent=u'\"Mozilla/5.0 (Windows NT 6.1) AppleWebKit/537.36 (KHTML, like Gecko) Chrome/36.0.1985.125 Safari/537.36\"', userId=u'1046'),\n",
       " Row(artist=u'Lily Allen', auth=u'Logged In', firstName=u'Elizabeth', gender=u'F', itemInSession=7, lastName=u'Chase', length=195.23873, level=u'free', location=u'Shreveport-Bossier City, LA', method=u'PUT', page=u'NextSong', registration=1512718541284, sessionId=5027, song=u'Cheryl Tweedy', status=200, ts=1513720878284, userAgent=u'\"Mozilla/5.0 (Windows NT 6.1) AppleWebKit/537.36 (KHTML, like Gecko) Chrome/36.0.1985.143 Safari/537.36\"', userId=u'1000'),\n",
       " Row(artist=u'Cobra Starship Featuring Leighton Meester', auth=u'Logged In', firstName=u'Vera', gender=u'F', itemInSession=6, lastName=u'Blackwell', length=196.20526, level=u'paid', location=u'Racine, WI', method=u'PUT', page=u'NextSong', registration=1499855749284, sessionId=5516, song=u'Good Girls Go Bad (Feat.Leighton Meester) (Album Version)', status=200, ts=1513720881284, userAgent=u'\"Mozilla/5.0 (Macintosh; Intel Mac OS X 10_9_4) AppleWebKit/537.78.2 (KHTML, like Gecko) Version/7.0.6 Safari/537.78.2\"', userId=u'2219'),\n",
       " Row(artist=u'Alex Smoke', auth=u'Logged In', firstName=u'Sophee', gender=u'F', itemInSession=8, lastName=u'Barker', length=405.99465, level=u'paid', location=u'San Luis Obispo-Paso Robles-Arroyo Grande, CA', method=u'PUT', page=u'NextSong', registration=1513009647284, sessionId=2372, song=u\"Don't See The Point\", status=200, ts=1513720905284, userAgent=u'\"Mozilla/5.0 (Windows NT 6.1; WOW64) AppleWebKit/537.36 (KHTML, like Gecko) Chrome/36.0.1985.143 Safari/537.36\"', userId=u'2373'),\n",
       " Row(artist=None, auth=u'Logged In', firstName=u'Jordyn', gender=u'F', itemInSession=0, lastName=u'Jones', length=None, level=u'free', location=u'Syracuse, NY', method=u'GET', page=u'Home', registration=1513648531284, sessionId=1746, song=None, status=200, ts=1513720913284, userAgent=u'\"Mozilla/5.0 (Macintosh; Intel Mac OS X 10_9_4) AppleWebKit/537.36 (KHTML, like Gecko) Chrome/37.0.2062.94 Safari/537.36\"', userId=u'1747')]"
      ]
     },
     "execution_count": 4,
     "metadata": {},
     "output_type": "execute_result"
    }
   ],
   "source": [
    "user_log.take(5)"
   ]
  },
  {
   "cell_type": "code",
   "execution_count": 5,
   "metadata": {
    "scrolled": true
   },
   "outputs": [
    {
     "name": "stdout",
     "output_type": "stream",
     "text": [
      "root\n",
      " |-- artist: string (nullable = true)\n",
      " |-- auth: string (nullable = true)\n",
      " |-- firstName: string (nullable = true)\n",
      " |-- gender: string (nullable = true)\n",
      " |-- itemInSession: long (nullable = true)\n",
      " |-- lastName: string (nullable = true)\n",
      " |-- length: double (nullable = true)\n",
      " |-- level: string (nullable = true)\n",
      " |-- location: string (nullable = true)\n",
      " |-- method: string (nullable = true)\n",
      " |-- page: string (nullable = true)\n",
      " |-- registration: long (nullable = true)\n",
      " |-- sessionId: long (nullable = true)\n",
      " |-- song: string (nullable = true)\n",
      " |-- status: long (nullable = true)\n",
      " |-- ts: long (nullable = true)\n",
      " |-- userAgent: string (nullable = true)\n",
      " |-- userId: string (nullable = true)\n",
      "\n"
     ]
    }
   ],
   "source": [
    "user_log.printSchema()"
   ]
  },
  {
   "cell_type": "code",
   "execution_count": 6,
   "metadata": {},
   "outputs": [
    {
     "name": "stdout",
     "output_type": "stream",
     "text": [
      "+-------+-----------------+----------+---------+------+------------------+--------+-----------------+-----+------------+------+-------+--------------------+------------------+--------+-----------------+-------------------+--------------------+------------------+\n",
      "|summary|           artist|      auth|firstName|gender|     itemInSession|lastName|           length|level|    location|method|   page|        registration|         sessionId|    song|           status|                 ts|           userAgent|            userId|\n",
      "+-------+-----------------+----------+---------+------+------------------+--------+-----------------+-----+------------+------+-------+--------------------+------------------+--------+-----------------+-------------------+--------------------+------------------+\n",
      "|  count|             8347|     10000|     9664|  9664|             10000|    9664|             8347|10000|        9664| 10000|  10000|                9664|             10000|    8347|            10000|              10000|                9664|             10000|\n",
      "|   mean|            461.0|      null|     null|  null|           19.6734|    null|249.6486587492506| null|        null|  null|   null|1.504695369588739...|         4436.7511|Infinity|         202.8984| 1.5137859954164E12|                null|1442.4413286423842|\n",
      "| stddev|            300.0|      null|     null|  null|25.382114916132608|    null|95.00437130781461| null|        null|  null|   null|  8.47314252131656E9|2043.1281541827561|     NaN|18.04179115450588|3.290828862357974E7|                null| 829.8909432082621|\n",
      "|    min|              !!!|     Guest|   Aakash|     F|                 0| Acevedo|          1.12281| free|Aberdeen, WA|   GET|  About|       1463503881284|                 9|      #1|              200|      1513720872284|\"Mozilla/5.0 (Mac...|                  |\n",
      "|    max|ÃÂlafur Arnalds|Logged Out|     Zoie|     M|               163|  Zuniga|        1806.8371| paid|    Yuma, AZ|   PUT|Upgrade|       1513760702284|              7144|wingless|              404|      1513848349284|Mozilla/5.0 (comp...|               999|\n",
      "+-------+-----------------+----------+---------+------+------------------+--------+-----------------+-----+------------+------+-------+--------------------+------------------+--------+-----------------+-------------------+--------------------+------------------+\n",
      "\n"
     ]
    }
   ],
   "source": [
    "user_log.describe().show()"
   ]
  },
  {
   "cell_type": "code",
   "execution_count": 7,
   "metadata": {},
   "outputs": [
    {
     "name": "stdout",
     "output_type": "stream",
     "text": [
      "+-------+-----------------+\n",
      "|summary|           artist|\n",
      "+-------+-----------------+\n",
      "|  count|             8347|\n",
      "|   mean|            461.0|\n",
      "| stddev|            300.0|\n",
      "|    min|              !!!|\n",
      "|    max|ÃÂlafur Arnalds|\n",
      "+-------+-----------------+\n",
      "\n"
     ]
    }
   ],
   "source": [
    "user_log.describe('artist').show()"
   ]
  },
  {
   "cell_type": "code",
   "execution_count": 8,
   "metadata": {},
   "outputs": [
    {
     "name": "stdout",
     "output_type": "stream",
     "text": [
      "+-------+------------------+\n",
      "|summary|         sessionId|\n",
      "+-------+------------------+\n",
      "|  count|             10000|\n",
      "|   mean|         4436.7511|\n",
      "| stddev|2043.1281541827561|\n",
      "|    min|                 9|\n",
      "|    max|              7144|\n",
      "+-------+------------------+\n",
      "\n"
     ]
    }
   ],
   "source": [
    "user_log.describe(\"sessionId\").show()"
   ]
  },
  {
   "cell_type": "code",
   "execution_count": 9,
   "metadata": {},
   "outputs": [
    {
     "data": {
      "text/plain": [
       "10000"
      ]
     },
     "execution_count": 9,
     "metadata": {},
     "output_type": "execute_result"
    }
   ],
   "source": [
    "user_log.count()"
   ]
  },
  {
   "cell_type": "code",
   "execution_count": 10,
   "metadata": {},
   "outputs": [
    {
     "name": "stdout",
     "output_type": "stream",
     "text": [
      "+----------------+\n",
      "|            page|\n",
      "+----------------+\n",
      "|           About|\n",
      "|       Downgrade|\n",
      "|           Error|\n",
      "|            Help|\n",
      "|            Home|\n",
      "|           Login|\n",
      "|          Logout|\n",
      "|        NextSong|\n",
      "|   Save Settings|\n",
      "|        Settings|\n",
      "|Submit Downgrade|\n",
      "|  Submit Upgrade|\n",
      "|         Upgrade|\n",
      "+----------------+\n",
      "\n"
     ]
    }
   ],
   "source": [
    "user_log.select(\"page\").dropDuplicates().sort(\"page\").show()"
   ]
  },
  {
   "cell_type": "code",
   "execution_count": 11,
   "metadata": {},
   "outputs": [
    {
     "data": {
      "text/plain": [
       "[Row(userId=u'1046', firstname=u'Kenneth', page=u'NextSong', song=u'Christmas Tears Will Fall'),\n",
       " Row(userId=u'1046', firstname=u'Kenneth', page=u'NextSong', song=u'Be Wary Of A Woman'),\n",
       " Row(userId=u'1046', firstname=u'Kenneth', page=u'NextSong', song=u'Public Enemy No.1'),\n",
       " Row(userId=u'1046', firstname=u'Kenneth', page=u'NextSong', song=u'Reign Of The Tyrants'),\n",
       " Row(userId=u'1046', firstname=u'Kenneth', page=u'NextSong', song=u'Father And Son'),\n",
       " Row(userId=u'1046', firstname=u'Kenneth', page=u'NextSong', song=u'No. 5'),\n",
       " Row(userId=u'1046', firstname=u'Kenneth', page=u'NextSong', song=u'Seventeen'),\n",
       " Row(userId=u'1046', firstname=u'Kenneth', page=u'Home', song=None),\n",
       " Row(userId=u'1046', firstname=u'Kenneth', page=u'NextSong', song=u'War on war'),\n",
       " Row(userId=u'1046', firstname=u'Kenneth', page=u'NextSong', song=u'Killermont Street'),\n",
       " Row(userId=u'1046', firstname=u'Kenneth', page=u'NextSong', song=u'Black & Blue'),\n",
       " Row(userId=u'1046', firstname=u'Kenneth', page=u'Logout', song=None),\n",
       " Row(userId=u'1046', firstname=u'Kenneth', page=u'Home', song=None),\n",
       " Row(userId=u'1046', firstname=u'Kenneth', page=u'NextSong', song=u'Heads Will Roll'),\n",
       " Row(userId=u'1046', firstname=u'Kenneth', page=u'NextSong', song=u'Bleed It Out [Live At Milton Keynes]'),\n",
       " Row(userId=u'1046', firstname=u'Kenneth', page=u'NextSong', song=u'Clocks'),\n",
       " Row(userId=u'1046', firstname=u'Kenneth', page=u'NextSong', song=u'Love Rain'),\n",
       " Row(userId=u'1046', firstname=u'Kenneth', page=u'NextSong', song=u\"Ry Ry's Song (Album Version)\"),\n",
       " Row(userId=u'1046', firstname=u'Kenneth', page=u'NextSong', song=u'The Invisible Man'),\n",
       " Row(userId=u'1046', firstname=u'Kenneth', page=u'NextSong', song=u'Catch You Baby (Steve Pitron & Max Sanna Radio Edit)'),\n",
       " Row(userId=u'1046', firstname=u'Kenneth', page=u'NextSong', song=u'Ask The Mountains'),\n",
       " Row(userId=u'1046', firstname=u'Kenneth', page=u'NextSong', song=u'Given Up (Album Version)'),\n",
       " Row(userId=u'1046', firstname=u'Kenneth', page=u'NextSong', song=u'El Cuatrero'),\n",
       " Row(userId=u'1046', firstname=u'Kenneth', page=u'NextSong', song=u'Hero/Heroine'),\n",
       " Row(userId=u'1046', firstname=u'Kenneth', page=u'NextSong', song=u'Spring'),\n",
       " Row(userId=u'1046', firstname=u'Kenneth', page=u'NextSong', song=u'Rising Moon'),\n",
       " Row(userId=u'1046', firstname=u'Kenneth', page=u'NextSong', song=u'Tough Little Boys'),\n",
       " Row(userId=u'1046', firstname=u'Kenneth', page=u'NextSong', song=u\"Qu'Est-Ce Que T'Es Belle\"),\n",
       " Row(userId=u'1046', firstname=u'Kenneth', page=u'NextSong', song=u'Secrets'),\n",
       " Row(userId=u'1046', firstname=u'Kenneth', page=u'NextSong', song=u'Under The Gun')]"
      ]
     },
     "execution_count": 11,
     "metadata": {},
     "output_type": "execute_result"
    }
   ],
   "source": [
    "user_log.select(['userId','firstname','page','song']).where(user_log.userId==\"1046\").collect()"
   ]
  },
  {
   "cell_type": "markdown",
   "metadata": {},
   "source": [
    "# Calculating Statistics by Hour"
   ]
  },
  {
   "cell_type": "code",
   "execution_count": 12,
   "metadata": {},
   "outputs": [],
   "source": [
    "get_hour = udf(lambda x: datetime.datetime.fromtimestamp(x/1000.0).hour)"
   ]
  },
  {
   "cell_type": "code",
   "execution_count": 13,
   "metadata": {},
   "outputs": [],
   "source": [
    "user_log = user_log.withColumn(\"hour\",get_hour(user_log.ts))"
   ]
  },
  {
   "cell_type": "code",
   "execution_count": 14,
   "metadata": {},
   "outputs": [
    {
     "data": {
      "text/plain": [
       "Row(artist=u'Showaddywaddy', auth=u'Logged In', firstName=u'Kenneth', gender=u'M', itemInSession=112, lastName=u'Matthews', length=232.93342, level=u'paid', location=u'Charlotte-Concord-Gastonia, NC-SC', method=u'PUT', page=u'NextSong', registration=1509380319284, sessionId=5132, song=u'Christmas Tears Will Fall', status=200, ts=1513720872284, userAgent=u'\"Mozilla/5.0 (Windows NT 6.1) AppleWebKit/537.36 (KHTML, like Gecko) Chrome/36.0.1985.125 Safari/537.36\"', userId=u'1046', hour=u'4')"
      ]
     },
     "execution_count": 14,
     "metadata": {},
     "output_type": "execute_result"
    }
   ],
   "source": [
    "user_log.head()"
   ]
  },
  {
   "cell_type": "code",
   "execution_count": 15,
   "metadata": {},
   "outputs": [],
   "source": [
    "songs_in_hour = user_log.filter(user_log.page==\"NextSong\").groupby(user_log.hour).count().orderBy(user_log.hour.cast(\"float\"))"
   ]
  },
  {
   "cell_type": "code",
   "execution_count": 16,
   "metadata": {},
   "outputs": [
    {
     "name": "stdout",
     "output_type": "stream",
     "text": [
      "+----+-----+\n",
      "|hour|count|\n",
      "+----+-----+\n",
      "|   0|  362|\n",
      "|   1|  295|\n",
      "|   2|  257|\n",
      "|   3|  248|\n",
      "|   4|  369|\n",
      "|   5|  375|\n",
      "|   6|  456|\n",
      "|   7|  454|\n",
      "|   8|  382|\n",
      "|   9|  302|\n",
      "|  10|  352|\n",
      "|  11|  276|\n",
      "|  12|  348|\n",
      "|  13|  358|\n",
      "|  14|  375|\n",
      "|  15|  249|\n",
      "|  16|  216|\n",
      "|  17|  228|\n",
      "|  18|  251|\n",
      "|  19|  339|\n",
      "+----+-----+\n",
      "only showing top 20 rows\n",
      "\n"
     ]
    }
   ],
   "source": [
    "songs_in_hour.show()"
   ]
  },
  {
   "cell_type": "code",
   "execution_count": 17,
   "metadata": {},
   "outputs": [],
   "source": [
    "songs_in_hour_pd = songs_in_hour.toPandas()"
   ]
  },
  {
   "cell_type": "code",
   "execution_count": 18,
   "metadata": {},
   "outputs": [],
   "source": [
    "songs_in_hour.hour = pd.to_numeric(songs_in_hour_pd.hour)"
   ]
  },
  {
   "cell_type": "code",
   "execution_count": 19,
   "metadata": {},
   "outputs": [
    {
     "data": {
      "image/png": "[encoded data removed]",
      "text/plain": [
       "<Figure size 432x288 with 1 Axes>"
      ]
     },
     "metadata": {
      "needs_background": "light"
     },
     "output_type": "display_data"
    }
   ],
   "source": [
    "plt.scatter(songs_in_hour_pd[\"hour\"], songs_in_hour_pd[\"count\"])\n",
    "plt.xlim(-1, 24);\n",
    "plt.ylim(0, 1.2 * max(songs_in_hour_pd[\"count\"]))\n",
    "plt.xlabel(\"Hour\")\n",
    "plt.ylabel(\"Songs played\");"
   ]
  },
  {
   "cell_type": "markdown",
   "metadata": {},
   "source": [
    "# Drop Rows with Missing Values\n",
    "\n",
    "As you'll see, it turns out there are no missing values in the userID or session columns. But there are userID values that are empty strings."
   ]
  },
  {
   "cell_type": "code",
   "execution_count": 20,
   "metadata": {},
   "outputs": [],
   "source": [
    "user_log_valid = user_log.dropna(how=\"any\",subset=[\"userId\",\"sessionId\"])"
   ]
  },
  {
   "cell_type": "code",
   "execution_count": 21,
   "metadata": {},
   "outputs": [
    {
     "data": {
      "text/plain": [
       "10000"
      ]
     },
     "execution_count": 21,
     "metadata": {},
     "output_type": "execute_result"
    }
   ],
   "source": [
    "user_log_valid.count()"
   ]
  },
  {
   "cell_type": "code",
   "execution_count": 22,
   "metadata": {},
   "outputs": [
    {
     "name": "stdout",
     "output_type": "stream",
     "text": [
      "+------+\n",
      "|userId|\n",
      "+------+\n",
      "|      |\n",
      "|    10|\n",
      "|   100|\n",
      "|  1000|\n",
      "|  1003|\n",
      "|  1005|\n",
      "|  1006|\n",
      "|  1017|\n",
      "|  1019|\n",
      "|  1020|\n",
      "|  1022|\n",
      "|  1025|\n",
      "|  1030|\n",
      "|  1035|\n",
      "|  1037|\n",
      "|   104|\n",
      "|  1040|\n",
      "|  1042|\n",
      "|  1043|\n",
      "|  1046|\n",
      "+------+\n",
      "only showing top 20 rows\n",
      "\n"
     ]
    }
   ],
   "source": [
    "user_log.select(\"userId\").dropDuplicates().sort(\"userId\").show()"
   ]
  },
  {
   "cell_type": "code",
   "execution_count": 23,
   "metadata": {},
   "outputs": [],
   "source": [
    "user_log_valid = user_log_valid.filter(user_log_valid[\"userId\"] != \"\")"
   ]
  },
  {
   "cell_type": "code",
   "execution_count": 24,
   "metadata": {},
   "outputs": [
    {
     "data": {
      "text/plain": [
       "9664"
      ]
     },
     "execution_count": 24,
     "metadata": {},
     "output_type": "execute_result"
    }
   ],
   "source": [
    "user_log_valid.count()"
   ]
  },
  {
   "cell_type": "markdown",
   "metadata": {},
   "source": [
    "# Users Downgrade Their Accounts\n",
    "\n",
    "Find when users downgrade their accounts and then flag those log entries. Then use a window function and cumulative sum to distinguish each user's data as either pre or post downgrade events."
   ]
  },
  {
   "cell_type": "code",
   "execution_count": 25,
   "metadata": {},
   "outputs": [
    {
     "name": "stdout",
     "output_type": "stream",
     "text": [
      "+------+---------+---------+------+-------------+--------+------+-----+--------------------+------+----------------+-------------+---------+----+------+-------------+--------------------+------+----+\n",
      "|artist|     auth|firstName|gender|itemInSession|lastName|length|level|            location|method|            page| registration|sessionId|song|status|           ts|           userAgent|userId|hour|\n",
      "+------+---------+---------+------+-------------+--------+------+-----+--------------------+------+----------------+-------------+---------+----+------+-------------+--------------------+------+----+\n",
      "|  null|Logged In|    Kelly|     F|           24|  Newton|  null| paid|Houston-The Woodl...|   PUT|Submit Downgrade|1513283366284|     5931|null|   307|1513768454284|Mozilla/5.0 (Wind...|  1138|  17|\n",
      "+------+---------+---------+------+-------------+--------+------+-----+--------------------+------+----------------+-------------+---------+----+------+-------------+--------------------+------+----+\n",
      "\n"
     ]
    }
   ],
   "source": [
    "user_log_valid.filter(\"page = 'Submit Downgrade'\").show()"
   ]
  },
  {
   "cell_type": "code",
   "execution_count": 26,
   "metadata": {},
   "outputs": [
    {
     "data": {
      "text/plain": [
       "[Row(userId=u'1138', firstname=u'Kelly', page=u'Home', level=u'paid', song=None),\n",
       " Row(userId=u'1138', firstname=u'Kelly', page=u'NextSong', level=u'paid', song=u'Everybody Everybody'),\n",
       " Row(userId=u'1138', firstname=u'Kelly', page=u'NextSong', level=u'paid', song=u'Gears'),\n",
       " Row(userId=u'1138', firstname=u'Kelly', page=u'NextSong', level=u'paid', song=u'Use Somebody'),\n",
       " Row(userId=u'1138', firstname=u'Kelly', page=u'NextSong', level=u'paid', song=u'Love Of My Life (1993 Digital Remaster)'),\n",
       " Row(userId=u'1138', firstname=u'Kelly', page=u'NextSong', level=u'paid', song=u'Down In The Valley Woe'),\n",
       " Row(userId=u'1138', firstname=u'Kelly', page=u'NextSong', level=u'paid', song=u'Treat Her Like A Lady'),\n",
       " Row(userId=u'1138', firstname=u'Kelly', page=u'NextSong', level=u'paid', song=u\"Everybody Thinks You're An Angel\"),\n",
       " Row(userId=u'1138', firstname=u'Kelly', page=u'NextSong', level=u'paid', song=u'Fourteen Wives'),\n",
       " Row(userId=u'1138', firstname=u'Kelly', page=u'NextSong', level=u'paid', song=u'Love On The Rocks'),\n",
       " Row(userId=u'1138', firstname=u'Kelly', page=u'NextSong', level=u'paid', song=u'Breakeven'),\n",
       " Row(userId=u'1138', firstname=u'Kelly', page=u'NextSong', level=u'paid', song=u'Leaf House'),\n",
       " Row(userId=u'1138', firstname=u'Kelly', page=u'NextSong', level=u'paid', song=u'NAISEN KANSSA'),\n",
       " Row(userId=u'1138', firstname=u'Kelly', page=u'NextSong', level=u'paid', song=u\"You're In My Heart\"),\n",
       " Row(userId=u'1138', firstname=u'Kelly', page=u'NextSong', level=u'paid', song=u'Roll On Down The Highway'),\n",
       " Row(userId=u'1138', firstname=u'Kelly', page=u'NextSong', level=u'paid', song=u'Plasticities (Remix)'),\n",
       " Row(userId=u'1138', firstname=u'Kelly', page=u'NextSong', level=u'paid', song=u'Secrets'),\n",
       " Row(userId=u'1138', firstname=u'Kelly', page=u'NextSong', level=u'paid', song=u'Hello'),\n",
       " Row(userId=u'1138', firstname=u'Kelly', page=u'NextSong', level=u'paid', song=u'I Never Told You'),\n",
       " Row(userId=u'1138', firstname=u'Kelly', page=u'NextSong', level=u'paid', song=u'Love Break Me'),\n",
       " Row(userId=u'1138', firstname=u'Kelly', page=u'NextSong', level=u'paid', song=u'One Touch One Bounce'),\n",
       " Row(userId=u'1138', firstname=u'Kelly', page=u'NextSong', level=u'paid', song=u'Undo'),\n",
       " Row(userId=u'1138', firstname=u'Kelly', page=u'NextSong', level=u'paid', song=u'Overdue (Blackbeard Remix)'),\n",
       " Row(userId=u'1138', firstname=u'Kelly', page=u'NextSong', level=u'paid', song=u'Slave To Love (1999 Digital Remaster)'),\n",
       " Row(userId=u'1138', firstname=u'Kelly', page=u'NextSong', level=u'paid', song=u'Stronger'),\n",
       " Row(userId=u'1138', firstname=u'Kelly', page=u'NextSong', level=u'paid', song=u'All Of Us (Album Version)'),\n",
       " Row(userId=u'1138', firstname=u'Kelly', page=u'NextSong', level=u'paid', song=u'Sehr kosmisch'),\n",
       " Row(userId=u'1138', firstname=u'Kelly', page=u'NextSong', level=u'paid', song=u'March Of The Celts'),\n",
       " Row(userId=u'1138', firstname=u'Kelly', page=u'NextSong', level=u'paid', song=u'Electricity'),\n",
       " Row(userId=u'1138', firstname=u'Kelly', page=u'NextSong', level=u'paid', song=u'Aces High'),\n",
       " Row(userId=u'1138', firstname=u'Kelly', page=u'NextSong', level=u'paid', song=u'Bananeira'),\n",
       " Row(userId=u'1138', firstname=u'Kelly', page=u'NextSong', level=u'paid', song=u'The General'),\n",
       " Row(userId=u'1138', firstname=u'Kelly', page=u'NextSong', level=u'paid', song=u'H\\xc3\\x83\\xc2\\xa9roe De Leyenda (Versi\\xc3\\x83\\xc2\\xb3n Maxi)'),\n",
       " Row(userId=u'1138', firstname=u'Kelly', page=u'NextSong', level=u'paid', song=u\"Don't Stop The Music\"),\n",
       " Row(userId=u'1138', firstname=u'Kelly', page=u'NextSong', level=u'paid', song=u\"You're The One\"),\n",
       " Row(userId=u'1138', firstname=u'Kelly', page=u'NextSong', level=u'paid', song=u'Entering White Cecilia'),\n",
       " Row(userId=u'1138', firstname=u'Kelly', page=u'NextSong', level=u'paid', song=u'Piccolo Cesare'),\n",
       " Row(userId=u'1138', firstname=u'Kelly', page=u'Help', level=u'paid', song=None),\n",
       " Row(userId=u'1138', firstname=u'Kelly', page=u'NextSong', level=u'paid', song=u'Last Christmas (Album Version)'),\n",
       " Row(userId=u'1138', firstname=u'Kelly', page=u'NextSong', level=u'paid', song=u'You Shook Me'),\n",
       " Row(userId=u'1138', firstname=u'Kelly', page=u'NextSong', level=u'paid', song=u'Going Steady'),\n",
       " Row(userId=u'1138', firstname=u'Kelly', page=u'NextSong', level=u'paid', song=u'My Name Is'),\n",
       " Row(userId=u'1138', firstname=u'Kelly', page=u'NextSong', level=u'paid', song=u'Undo'),\n",
       " Row(userId=u'1138', firstname=u'Kelly', page=u'NextSong', level=u'paid', song=u'Secrets'),\n",
       " Row(userId=u'1138', firstname=u'Kelly', page=u'NextSong', level=u'paid', song=u'Good Times Gone (Album Version)'),\n",
       " Row(userId=u'1138', firstname=u'Kelly', page=u'NextSong', level=u'paid', song=u'Angelito'),\n",
       " Row(userId=u'1138', firstname=u'Kelly', page=u'NextSong', level=u'paid', song=u'Batdance ( LP Version )'),\n",
       " Row(userId=u'1138', firstname=u'Kelly', page=u'Home', level=u'paid', song=None),\n",
       " Row(userId=u'1138', firstname=u'Kelly', page=u'NextSong', level=u'paid', song=u'Di\\xc3\\x83\\xc2\\xa1kdal'),\n",
       " Row(userId=u'1138', firstname=u'Kelly', page=u'NextSong', level=u'paid', song=u'Whirring'),\n",
       " Row(userId=u'1138', firstname=u'Kelly', page=u'NextSong', level=u'paid', song=u'Potholderz (feat. Count Bass D)'),\n",
       " Row(userId=u'1138', firstname=u'Kelly', page=u'NextSong', level=u'paid', song=u'Seaside'),\n",
       " Row(userId=u'1138', firstname=u'Kelly', page=u'NextSong', level=u'paid', song=u'Louder Than A Bomb'),\n",
       " Row(userId=u'1138', firstname=u'Kelly', page=u'NextSong', level=u'paid', song=u'Just Like You'),\n",
       " Row(userId=u'1138', firstname=u'Kelly', page=u'NextSong', level=u'paid', song=u\"You're The One\"),\n",
       " Row(userId=u'1138', firstname=u'Kelly', page=u'NextSong', level=u'paid', song=u'Turn It Again (Album Version)'),\n",
       " Row(userId=u'1138', firstname=u'Kelly', page=u'NextSong', level=u'paid', song=u'Everywhere I Go'),\n",
       " Row(userId=u'1138', firstname=u'Kelly', page=u'NextSong', level=u'paid', song=u\"Easy Skankin'\"),\n",
       " Row(userId=u'1138', firstname=u'Kelly', page=u'NextSong', level=u'paid', song=u'Roses'),\n",
       " Row(userId=u'1138', firstname=u'Kelly', page=u'NextSong', level=u'paid', song=u'Killing Me Softly With His Song'),\n",
       " Row(userId=u'1138', firstname=u'Kelly', page=u'NextSong', level=u'paid', song=u'The Razor (Album Version)'),\n",
       " Row(userId=u'1138', firstname=u'Kelly', page=u'NextSong', level=u'paid', song=u'Idols and Anchors'),\n",
       " Row(userId=u'1138', firstname=u'Kelly', page=u'Downgrade', level=u'paid', song=None),\n",
       " Row(userId=u'1138', firstname=u'Kelly', page=u'Submit Downgrade', level=u'paid', song=None),\n",
       " Row(userId=u'1138', firstname=u'Kelly', page=u'Home', level=u'free', song=None),\n",
       " Row(userId=u'1138', firstname=u'Kelly', page=u'NextSong', level=u'free', song=u'Bones'),\n",
       " Row(userId=u'1138', firstname=u'Kelly', page=u'Home', level=u'free', song=None),\n",
       " Row(userId=u'1138', firstname=u'Kelly', page=u'NextSong', level=u'free', song=u'Grenouilles Mantidactylus (Small Frogs)')]"
      ]
     },
     "execution_count": 26,
     "metadata": {},
     "output_type": "execute_result"
    }
   ],
   "source": [
    "user_log.select([\"userId\", \"firstname\", \"page\", \"level\", \"song\"]).where(user_log.userId == \"1138\").collect()"
   ]
  },
  {
   "cell_type": "code",
   "execution_count": 27,
   "metadata": {},
   "outputs": [],
   "source": [
    "flag_downgrade_event = udf(lambda x: 1 if x == \"Sbubmit Downgrade\" else 0,IntegerType())"
   ]
  },
  {
   "cell_type": "code",
   "execution_count": 28,
   "metadata": {},
   "outputs": [],
   "source": [
    "user_log_valid= user_log_valid.withColumn(\"downgraded\",flag_downgrade_event(\"page\"))"
   ]
  },
  {
   "cell_type": "code",
   "execution_count": 29,
   "metadata": {},
   "outputs": [
    {
     "data": {
      "text/plain": [
       "Row(artist=u'Showaddywaddy', auth=u'Logged In', firstName=u'Kenneth', gender=u'M', itemInSession=112, lastName=u'Matthews', length=232.93342, level=u'paid', location=u'Charlotte-Concord-Gastonia, NC-SC', method=u'PUT', page=u'NextSong', registration=1509380319284, sessionId=5132, song=u'Christmas Tears Will Fall', status=200, ts=1513720872284, userAgent=u'\"Mozilla/5.0 (Windows NT 6.1) AppleWebKit/537.36 (KHTML, like Gecko) Chrome/36.0.1985.125 Safari/537.36\"', userId=u'1046', hour=u'4', downgraded=0)"
      ]
     },
     "execution_count": 29,
     "metadata": {},
     "output_type": "execute_result"
    }
   ],
   "source": [
    "user_log_valid.head()"
   ]
  },
  {
   "cell_type": "code",
   "execution_count": 30,
   "metadata": {},
   "outputs": [],
   "source": [
    "from pyspark.sql import Window"
   ]
  },
  {
   "cell_type": "code",
   "execution_count": 31,
   "metadata": {},
   "outputs": [],
   "source": [
    "windowval = Window.partitionBy(\"userId\").orderBy(desc(\"ts\")).rangeBetween(Window.unboundedPreceding, 0)"
   ]
  },
  {
   "cell_type": "code",
   "execution_count": 34,
   "metadata": {},
   "outputs": [],
   "source": [
    "user_log_valid = user_log_valid.withColumn(\"phase\", Fsum(\"downgraded\").over(windowval))"
   ]
  },
  {
   "cell_type": "code",
   "execution_count": 35,
   "metadata": {},
   "outputs": [
    {
     "data": {
      "text/plain": [
       "[Row(userId=u'1138', firstname=u'Kelly', ts=1513729066284, page=u'Home', level=u'paid', phase=0),\n",
       " Row(userId=u'1138', firstname=u'Kelly', ts=1513729066284, page=u'NextSong', level=u'paid', phase=0),\n",
       " Row(userId=u'1138', firstname=u'Kelly', ts=1513729313284, page=u'NextSong', level=u'paid', phase=0),\n",
       " Row(userId=u'1138', firstname=u'Kelly', ts=1513729552284, page=u'NextSong', level=u'paid', phase=0),\n",
       " Row(userId=u'1138', firstname=u'Kelly', ts=1513729783284, page=u'NextSong', level=u'paid', phase=0),\n",
       " Row(userId=u'1138', firstname=u'Kelly', ts=1513730001284, page=u'NextSong', level=u'paid', phase=0),\n",
       " Row(userId=u'1138', firstname=u'Kelly', ts=1513730263284, page=u'NextSong', level=u'paid', phase=0),\n",
       " Row(userId=u'1138', firstname=u'Kelly', ts=1513730518284, page=u'NextSong', level=u'paid', phase=0),\n",
       " Row(userId=u'1138', firstname=u'Kelly', ts=1513730768284, page=u'NextSong', level=u'paid', phase=0),\n",
       " Row(userId=u'1138', firstname=u'Kelly', ts=1513731182284, page=u'NextSong', level=u'paid', phase=0),\n",
       " Row(userId=u'1138', firstname=u'Kelly', ts=1513731435284, page=u'NextSong', level=u'paid', phase=0),\n",
       " Row(userId=u'1138', firstname=u'Kelly', ts=1513731695284, page=u'NextSong', level=u'paid', phase=0),\n",
       " Row(userId=u'1138', firstname=u'Kelly', ts=1513731857284, page=u'NextSong', level=u'paid', phase=0),\n",
       " Row(userId=u'1138', firstname=u'Kelly', ts=1513732160284, page=u'NextSong', level=u'paid', phase=0),\n",
       " Row(userId=u'1138', firstname=u'Kelly', ts=1513732302284, page=u'NextSong', level=u'paid', phase=0),\n",
       " Row(userId=u'1138', firstname=u'Kelly', ts=1513732540284, page=u'NextSong', level=u'paid', phase=0),\n",
       " Row(userId=u'1138', firstname=u'Kelly', ts=1513732770284, page=u'NextSong', level=u'paid', phase=0),\n",
       " Row(userId=u'1138', firstname=u'Kelly', ts=1513732994284, page=u'NextSong', level=u'paid', phase=0),\n",
       " Row(userId=u'1138', firstname=u'Kelly', ts=1513733223284, page=u'NextSong', level=u'paid', phase=0),\n",
       " Row(userId=u'1138', firstname=u'Kelly', ts=1513733456284, page=u'NextSong', level=u'paid', phase=0),\n",
       " Row(userId=u'1138', firstname=u'Kelly', ts=1513733738284, page=u'NextSong', level=u'paid', phase=0),\n",
       " Row(userId=u'1138', firstname=u'Kelly', ts=1513733941284, page=u'NextSong', level=u'paid', phase=0),\n",
       " Row(userId=u'1138', firstname=u'Kelly', ts=1513734289284, page=u'NextSong', level=u'paid', phase=0),\n",
       " Row(userId=u'1138', firstname=u'Kelly', ts=1513734598284, page=u'NextSong', level=u'paid', phase=0),\n",
       " Row(userId=u'1138', firstname=u'Kelly', ts=1513734863284, page=u'NextSong', level=u'paid', phase=0),\n",
       " Row(userId=u'1138', firstname=u'Kelly', ts=1513735174284, page=u'NextSong', level=u'paid', phase=0),\n",
       " Row(userId=u'1138', firstname=u'Kelly', ts=1513735385284, page=u'NextSong', level=u'paid', phase=0),\n",
       " Row(userId=u'1138', firstname=u'Kelly', ts=1513736040284, page=u'NextSong', level=u'paid', phase=0),\n",
       " Row(userId=u'1138', firstname=u'Kelly', ts=1513736237284, page=u'NextSong', level=u'paid', phase=0),\n",
       " Row(userId=u'1138', firstname=u'Kelly', ts=1513736446284, page=u'NextSong', level=u'paid', phase=0),\n",
       " Row(userId=u'1138', firstname=u'Kelly', ts=1513736709284, page=u'NextSong', level=u'paid', phase=0),\n",
       " Row(userId=u'1138', firstname=u'Kelly', ts=1513736915284, page=u'NextSong', level=u'paid', phase=0),\n",
       " Row(userId=u'1138', firstname=u'Kelly', ts=1513737160284, page=u'NextSong', level=u'paid', phase=0),\n",
       " Row(userId=u'1138', firstname=u'Kelly', ts=1513737460284, page=u'NextSong', level=u'paid', phase=0),\n",
       " Row(userId=u'1138', firstname=u'Kelly', ts=1513737728284, page=u'NextSong', level=u'paid', phase=0),\n",
       " Row(userId=u'1138', firstname=u'Kelly', ts=1513737936284, page=u'NextSong', level=u'paid', phase=0),\n",
       " Row(userId=u'1138', firstname=u'Kelly', ts=1513738144284, page=u'NextSong', level=u'paid', phase=0),\n",
       " Row(userId=u'1138', firstname=u'Kelly', ts=1513738197284, page=u'Help', level=u'paid', phase=0),\n",
       " Row(userId=u'1138', firstname=u'Kelly', ts=1513738432284, page=u'NextSong', level=u'paid', phase=0),\n",
       " Row(userId=u'1138', firstname=u'Kelly', ts=1513763195284, page=u'NextSong', level=u'paid', phase=0),\n",
       " Row(userId=u'1138', firstname=u'Kelly', ts=1513763453284, page=u'NextSong', level=u'paid', phase=0),\n",
       " Row(userId=u'1138', firstname=u'Kelly', ts=1513763622284, page=u'NextSong', level=u'paid', phase=0),\n",
       " Row(userId=u'1138', firstname=u'Kelly', ts=1513763890284, page=u'NextSong', level=u'paid', phase=0),\n",
       " Row(userId=u'1138', firstname=u'Kelly', ts=1513764238284, page=u'NextSong', level=u'paid', phase=0),\n",
       " Row(userId=u'1138', firstname=u'Kelly', ts=1513764462284, page=u'NextSong', level=u'paid', phase=0),\n",
       " Row(userId=u'1138', firstname=u'Kelly', ts=1513764782284, page=u'NextSong', level=u'paid', phase=0),\n",
       " Row(userId=u'1138', firstname=u'Kelly', ts=1513765075284, page=u'NextSong', level=u'paid', phase=0),\n",
       " Row(userId=u'1138', firstname=u'Kelly', ts=1513765075284, page=u'Home', level=u'paid', phase=0),\n",
       " Row(userId=u'1138', firstname=u'Kelly', ts=1513765448284, page=u'NextSong', level=u'paid', phase=0),\n",
       " Row(userId=u'1138', firstname=u'Kelly', ts=1513765655284, page=u'NextSong', level=u'paid', phase=0),\n",
       " Row(userId=u'1138', firstname=u'Kelly', ts=1513765818284, page=u'NextSong', level=u'paid', phase=0),\n",
       " Row(userId=u'1138', firstname=u'Kelly', ts=1513766091284, page=u'NextSong', level=u'paid', phase=0),\n",
       " Row(userId=u'1138', firstname=u'Kelly', ts=1513766189284, page=u'NextSong', level=u'paid', phase=0),\n",
       " Row(userId=u'1138', firstname=u'Kelly', ts=1513766385284, page=u'NextSong', level=u'paid', phase=0),\n",
       " Row(userId=u'1138', firstname=u'Kelly', ts=1513766599284, page=u'NextSong', level=u'paid', phase=0),\n",
       " Row(userId=u'1138', firstname=u'Kelly', ts=1513766838284, page=u'NextSong', level=u'paid', phase=0),\n",
       " Row(userId=u'1138', firstname=u'Kelly', ts=1513767203284, page=u'NextSong', level=u'paid', phase=0),\n",
       " Row(userId=u'1138', firstname=u'Kelly', ts=1513767413284, page=u'NextSong', level=u'paid', phase=0),\n",
       " Row(userId=u'1138', firstname=u'Kelly', ts=1513767643284, page=u'NextSong', level=u'paid', phase=0),\n",
       " Row(userId=u'1138', firstname=u'Kelly', ts=1513768012284, page=u'NextSong', level=u'paid', phase=0),\n",
       " Row(userId=u'1138', firstname=u'Kelly', ts=1513768242284, page=u'NextSong', level=u'paid', phase=0),\n",
       " Row(userId=u'1138', firstname=u'Kelly', ts=1513768452284, page=u'NextSong', level=u'paid', phase=0),\n",
       " Row(userId=u'1138', firstname=u'Kelly', ts=1513768453284, page=u'Downgrade', level=u'paid', phase=0),\n",
       " Row(userId=u'1138', firstname=u'Kelly', ts=1513768454284, page=u'Submit Downgrade', level=u'paid', phase=0),\n",
       " Row(userId=u'1138', firstname=u'Kelly', ts=1513768456284, page=u'Home', level=u'free', phase=0),\n",
       " Row(userId=u'1138', firstname=u'Kelly', ts=1513814880284, page=u'NextSong', level=u'free', phase=0),\n",
       " Row(userId=u'1138', firstname=u'Kelly', ts=1513821430284, page=u'Home', level=u'free', phase=0),\n",
       " Row(userId=u'1138', firstname=u'Kelly', ts=1513833144284, page=u'NextSong', level=u'free', phase=0)]"
      ]
     },
     "execution_count": 35,
     "metadata": {},
     "output_type": "execute_result"
    }
   ],
   "source": [
    "user_log_valid.select([\"userId\", \"firstname\", \"ts\", \"page\", \"level\", \"phase\"]).where(user_log.userId == \"1138\").sort(\"ts\").collect()"
   ]
  },
  {
   "cell_type": "code",
   "execution_count": null,
   "metadata": {},
   "outputs": [],
   "source": []
  }
 ],
 "metadata": {
  "kernelspec": {
   "display_name": "Python 2",
   "language": "python",
   "name": "python2"
  },
  "language_info": {
   "codemirror_mode": {
    "name": "ipython",
    "version": 2
   },
   "file_extension": ".py",
   "mimetype": "text/x-python",
   "name": "python",
   "nbconvert_exporter": "python",
   "pygments_lexer": "ipython2",
   "version": "2.7.16"
  }
 },
 "nbformat": 4,
 "nbformat_minor": 2
}
