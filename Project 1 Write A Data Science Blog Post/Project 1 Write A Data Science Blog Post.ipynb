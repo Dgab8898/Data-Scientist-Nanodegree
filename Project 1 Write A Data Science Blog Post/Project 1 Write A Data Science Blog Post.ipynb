{
 "cells": [
  {
   "cell_type": "markdown",
   "metadata": {},
   "source": [
    "# load the libraries"
   ]
  },
  {
   "cell_type": "code",
   "execution_count": 3,
   "metadata": {},
   "outputs": [],
   "source": [
    "import pandas as pd\n",
    "import chardet"
   ]
  },
  {
   "cell_type": "markdown",
   "metadata": {},
   "source": [
    "# Load the data"
   ]
  },
  {
   "cell_type": "code",
   "execution_count": 7,
   "metadata": {},
   "outputs": [
    {
     "name": "stdout",
     "output_type": "stream",
     "text": [
      "{'encoding': 'ISO-8859-1', 'confidence': 0.73, 'language': ''}\n"
     ]
    }
   ],
   "source": [
    "# detect file encoding\n",
    "with open(\"2011 Stack Overflow Survey Results/2011 Stack Overflow Survey Results.csv\",\"rb\") as file:\n",
    "    print(chardet.detect(file.read()))"
   ]
  },
  {
   "cell_type": "code",
   "execution_count": 43,
   "metadata": {},
   "outputs": [
    {
     "name": "stderr",
     "output_type": "stream",
     "text": [
      "C:\\ProgramData\\Anaconda3\\lib\\site-packages\\IPython\\core\\interactiveshell.py:3057: DtypeWarning: Columns (5,108,121,196,197,198) have mixed types. Specify dtype option on import or set low_memory=False.\n",
      "  interactivity=interactivity, compiler=compiler, result=result)\n",
      "C:\\ProgramData\\Anaconda3\\lib\\site-packages\\IPython\\core\\interactiveshell.py:3057: DtypeWarning: Columns (8,12,13,14,15,16,50,51,52,53,55,56,57,58,59,60,61,62,63,64,65,66,67,68,69,70,71,72,73,74,75,76,77,78,79,80,81,82,83,84,85,93,94,95,96,97,98,99,100,101,102,103,104,105,106,107,108,109,110,111,112,113,114,115,116,117,118,119,120,121,122,123,124,125,126,127,128) have mixed types. Specify dtype option on import or set low_memory=False.\n",
      "  interactivity=interactivity, compiler=compiler, result=result)\n"
     ]
    }
   ],
   "source": [
    "df11 = pd.read_csv(\"2011 Stack Overflow Survey Results.csv\", encoding = 'ISO-8859-1')\n",
    "df12 = pd.read_csv(\"2012 Stack Overflow Survey Results.csv\", encoding = 'ISO-8859-1')\n",
    "df13 = pd.read_csv(\"2013 Stack Overflow Survey Responses.csv\", encoding = 'ISO-8859-1')\n",
    "df14 = pd.read_csv(\"2014 Stack Overflow Survey Responses.csv\", encoding = 'ISO-8859-1')\n",
    "df15 = pd.read_csv(\"2015 Stack Overflow Developer Survey Responses.csv\",skiprows=1, encoding = 'ISO-8859-1')\n",
    "df16 = pd.read_csv(\"2016 Stack Overflow Survey Responses.csv\", encoding = 'ISO-8859-1')\n",
    "df17 = pd.read_csv(\"developer_survey_2017/survey_results_public.csv\", encoding = 'ISO-8859-1')\n",
    "df18 = pd.read_csv(\"developer_survey_2018/survey_results_public.csv\", encoding = 'ISO-8859-1')\n",
    "df19 = pd.read_csv(\"developer_survey_2019/survey_results_public.csv\", encoding = 'ISO-8859-1')\n"
   ]
  },
  {
   "cell_type": "code",
   "execution_count": 25,
   "metadata": {},
   "outputs": [
    {
     "data": {
      "text/plain": [
       "(2814, 65)"
      ]
     },
     "execution_count": 25,
     "metadata": {},
     "output_type": "execute_result"
    }
   ],
   "source": [
    "df11.shape"
   ]
  },
  {
   "cell_type": "code",
   "execution_count": 26,
   "metadata": {},
   "outputs": [
    {
     "data": {
      "text/plain": [
       "(6244, 75)"
      ]
     },
     "execution_count": 26,
     "metadata": {},
     "output_type": "execute_result"
    }
   ],
   "source": [
    "df12.shape"
   ]
  },
  {
   "cell_type": "code",
   "execution_count": 27,
   "metadata": {},
   "outputs": [
    {
     "data": {
      "text/plain": [
       "(9743, 128)"
      ]
     },
     "execution_count": 27,
     "metadata": {},
     "output_type": "execute_result"
    }
   ],
   "source": [
    "df13.shape"
   ]
  },
  {
   "cell_type": "code",
   "execution_count": 28,
   "metadata": {},
   "outputs": [
    {
     "data": {
      "text/plain": [
       "(7644, 120)"
      ]
     },
     "execution_count": 28,
     "metadata": {},
     "output_type": "execute_result"
    }
   ],
   "source": [
    "df14.shape"
   ]
  },
  {
   "cell_type": "code",
   "execution_count": 29,
   "metadata": {},
   "outputs": [
    {
     "data": {
      "text/plain": [
       "(26087, 222)"
      ]
     },
     "execution_count": 29,
     "metadata": {},
     "output_type": "execute_result"
    }
   ],
   "source": [
    "df15.shape"
   ]
  },
  {
   "cell_type": "code",
   "execution_count": 30,
   "metadata": {},
   "outputs": [
    {
     "data": {
      "text/plain": [
       "(56030, 66)"
      ]
     },
     "execution_count": 30,
     "metadata": {},
     "output_type": "execute_result"
    }
   ],
   "source": [
    "df16.shape"
   ]
  },
  {
   "cell_type": "code",
   "execution_count": 31,
   "metadata": {},
   "outputs": [
    {
     "data": {
      "text/plain": [
       "(51392, 154)"
      ]
     },
     "execution_count": 31,
     "metadata": {},
     "output_type": "execute_result"
    }
   ],
   "source": [
    "df17.shape"
   ]
  },
  {
   "cell_type": "code",
   "execution_count": 32,
   "metadata": {},
   "outputs": [
    {
     "data": {
      "text/plain": [
       "(98855, 129)"
      ]
     },
     "execution_count": 32,
     "metadata": {},
     "output_type": "execute_result"
    }
   ],
   "source": [
    "df18.shape"
   ]
  },
  {
   "cell_type": "code",
   "execution_count": 33,
   "metadata": {},
   "outputs": [
    {
     "data": {
      "text/plain": [
       "(88883, 85)"
      ]
     },
     "execution_count": 33,
     "metadata": {},
     "output_type": "execute_result"
    }
   ],
   "source": [
    "df19.shape"
   ]
  },
  {
   "cell_type": "code",
   "execution_count": 44,
   "metadata": {},
   "outputs": [],
   "source": [
    "dfs = [df11, df12, df13, df14, df15, df16, df17, df18, df19]"
   ]
  },
  {
   "cell_type": "code",
   "execution_count": 45,
   "metadata": {},
   "outputs": [
    {
     "data": {
      "text/html": [
       "<div>\n",
       "<style scoped>\n",
       "    .dataframe tbody tr th:only-of-type {\n",
       "        vertical-align: middle;\n",
       "    }\n",
       "\n",
       "    .dataframe tbody tr th {\n",
       "        vertical-align: top;\n",
       "    }\n",
       "\n",
       "    .dataframe thead th {\n",
       "        text-align: right;\n",
       "    }\n",
       "</style>\n",
       "<table border=\"1\" class=\"dataframe\">\n",
       "  <thead>\n",
       "    <tr style=\"text-align: right;\">\n",
       "      <th></th>\n",
       "      <th>What Country or Region do you live in?</th>\n",
       "      <th>Which US State or Territory do you live in?</th>\n",
       "      <th>How old are you?</th>\n",
       "      <th>How many years of IT/Programming experience do you have?</th>\n",
       "      <th>How would you best describe the industry you work in?</th>\n",
       "      <th>Which best describes the size of your company?</th>\n",
       "      <th>Which of the following best describes your occupation?</th>\n",
       "      <th>How likely is it that a recommendation you make will be acted upon?</th>\n",
       "      <th>What is your involvement in purchasing? You can choose more than 1.</th>\n",
       "      <th>Unnamed: 9</th>\n",
       "      <th>...</th>\n",
       "      <th>Unnamed: 55</th>\n",
       "      <th>Unnamed: 56</th>\n",
       "      <th>Unnamed: 57</th>\n",
       "      <th>Unnamed: 58</th>\n",
       "      <th>Unnamed: 59</th>\n",
       "      <th>Unnamed: 60</th>\n",
       "      <th>Unnamed: 61</th>\n",
       "      <th>Unnamed: 62</th>\n",
       "      <th>In the last 12 months, how much money have you spent on personal technology-related purchases?</th>\n",
       "      <th>Which of our sites do you frequent most?</th>\n",
       "    </tr>\n",
       "  </thead>\n",
       "  <tbody>\n",
       "    <tr>\n",
       "      <th>count</th>\n",
       "      <td>2814</td>\n",
       "      <td>1030</td>\n",
       "      <td>2730</td>\n",
       "      <td>2730</td>\n",
       "      <td>2730</td>\n",
       "      <td>2647</td>\n",
       "      <td>2647</td>\n",
       "      <td>2611</td>\n",
       "      <td>1362</td>\n",
       "      <td>1497</td>\n",
       "      <td>...</td>\n",
       "      <td>117</td>\n",
       "      <td>395</td>\n",
       "      <td>502</td>\n",
       "      <td>377</td>\n",
       "      <td>598</td>\n",
       "      <td>825</td>\n",
       "      <td>315</td>\n",
       "      <td>219</td>\n",
       "      <td>2506</td>\n",
       "      <td>2533</td>\n",
       "    </tr>\n",
       "    <tr>\n",
       "      <th>unique</th>\n",
       "      <td>20</td>\n",
       "      <td>52</td>\n",
       "      <td>9</td>\n",
       "      <td>5</td>\n",
       "      <td>13</td>\n",
       "      <td>7</td>\n",
       "      <td>14</td>\n",
       "      <td>6</td>\n",
       "      <td>1</td>\n",
       "      <td>1</td>\n",
       "      <td>...</td>\n",
       "      <td>1</td>\n",
       "      <td>1</td>\n",
       "      <td>1</td>\n",
       "      <td>1</td>\n",
       "      <td>1</td>\n",
       "      <td>1</td>\n",
       "      <td>1</td>\n",
       "      <td>148</td>\n",
       "      <td>8</td>\n",
       "      <td>8</td>\n",
       "    </tr>\n",
       "    <tr>\n",
       "      <th>top</th>\n",
       "      <td>United States of America</td>\n",
       "      <td>California</td>\n",
       "      <td>25-29</td>\n",
       "      <td>11</td>\n",
       "      <td>Software Products</td>\n",
       "      <td>Start Up (1-25)</td>\n",
       "      <td>Web Application Developer</td>\n",
       "      <td>It's been known to happen</td>\n",
       "      <td>Influencer</td>\n",
       "      <td>Recommender</td>\n",
       "      <td>...</td>\n",
       "      <td>AppleTV</td>\n",
       "      <td>iPad</td>\n",
       "      <td>Other netbook</td>\n",
       "      <td>PS3</td>\n",
       "      <td>Xbox</td>\n",
       "      <td>Wii</td>\n",
       "      <td>Other gaming system</td>\n",
       "      <td>iPod Touch</td>\n",
       "      <td>$1,001-$2,000</td>\n",
       "      <td>Stack Overflow</td>\n",
       "    </tr>\n",
       "    <tr>\n",
       "      <th>freq</th>\n",
       "      <td>1037</td>\n",
       "      <td>122</td>\n",
       "      <td>831</td>\n",
       "      <td>1044</td>\n",
       "      <td>814</td>\n",
       "      <td>745</td>\n",
       "      <td>1066</td>\n",
       "      <td>1060</td>\n",
       "      <td>1362</td>\n",
       "      <td>1497</td>\n",
       "      <td>...</td>\n",
       "      <td>117</td>\n",
       "      <td>395</td>\n",
       "      <td>502</td>\n",
       "      <td>377</td>\n",
       "      <td>598</td>\n",
       "      <td>825</td>\n",
       "      <td>315</td>\n",
       "      <td>27</td>\n",
       "      <td>569</td>\n",
       "      <td>2230</td>\n",
       "    </tr>\n",
       "  </tbody>\n",
       "</table>\n",
       "<p>4 rows × 65 columns</p>\n",
       "</div>"
      ],
      "text/plain": [
       "       What Country or Region do you live in?  \\\n",
       "count                                    2814   \n",
       "unique                                     20   \n",
       "top                  United States of America   \n",
       "freq                                     1037   \n",
       "\n",
       "       Which US State or Territory do you live in? How old are you?  \\\n",
       "count                                         1030             2730   \n",
       "unique                                          52                9   \n",
       "top                                     California            25-29   \n",
       "freq                                           122              831   \n",
       "\n",
       "       How many years of IT/Programming experience do you have?  \\\n",
       "count                                                2730         \n",
       "unique                                                  5         \n",
       "top                                                    11         \n",
       "freq                                                 1044         \n",
       "\n",
       "       How would you best describe the industry you work in?  \\\n",
       "count                                                2730      \n",
       "unique                                                 13      \n",
       "top                                     Software Products      \n",
       "freq                                                  814      \n",
       "\n",
       "       Which best describes the size of your company?  \\\n",
       "count                                            2647   \n",
       "unique                                              7   \n",
       "top                                   Start Up (1-25)   \n",
       "freq                                              745   \n",
       "\n",
       "       Which of the following best describes your occupation?  \\\n",
       "count                                                2647       \n",
       "unique                                                 14       \n",
       "top                             Web Application Developer       \n",
       "freq                                                 1066       \n",
       "\n",
       "       How likely is it that a recommendation you make will be acted upon?  \\\n",
       "count                                                2611                    \n",
       "unique                                                  6                    \n",
       "top                             It's been known to happen                    \n",
       "freq                                                 1060                    \n",
       "\n",
       "       What is your involvement in purchasing? You can choose more than 1.  \\\n",
       "count                                                1362                    \n",
       "unique                                                  1                    \n",
       "top                                            Influencer                    \n",
       "freq                                                 1362                    \n",
       "\n",
       "         Unnamed: 9  ... Unnamed: 55 Unnamed: 56    Unnamed: 57 Unnamed: 58  \\\n",
       "count          1497  ...         117         395            502         377   \n",
       "unique            1  ...           1           1              1           1   \n",
       "top     Recommender  ...     AppleTV        iPad  Other netbook         PS3   \n",
       "freq           1497  ...         117         395            502         377   \n",
       "\n",
       "       Unnamed: 59 Unnamed: 60          Unnamed: 61 Unnamed: 62  \\\n",
       "count          598         825                  315         219   \n",
       "unique           1           1                    1         148   \n",
       "top           Xbox         Wii  Other gaming system  iPod Touch   \n",
       "freq           598         825                  315          27   \n",
       "\n",
       "       In the last 12 months, how much money have you spent on personal technology-related purchases?   \\\n",
       "count                                                2506                                                \n",
       "unique                                                  8                                                \n",
       "top                                         $1,001-$2,000                                                \n",
       "freq                                                  569                                                \n",
       "\n",
       "       Which of our sites do you frequent most?  \n",
       "count                                      2533  \n",
       "unique                                        8  \n",
       "top                              Stack Overflow  \n",
       "freq                                       2230  \n",
       "\n",
       "[4 rows x 65 columns]"
      ]
     },
     "execution_count": 45,
     "metadata": {},
     "output_type": "execute_result"
    }
   ],
   "source": [
    "df11.describe()"
   ]
  },
  {
   "cell_type": "code",
   "execution_count": 46,
   "metadata": {},
   "outputs": [
    {
     "name": "stdout",
     "output_type": "stream",
     "text": [
      "-------------------------------------------------------------------------------\n",
      "Index(['What Country or Region do you live in?',\n",
      "       'Which US State or Territory do you live in?', 'How old are you?',\n",
      "       'How many years of IT/Programming experience do you have?',\n",
      "       'How would you best describe the industry you work in?',\n",
      "       'Which best describes the size of your company?',\n",
      "       'Which of the following best describes your occupation?',\n",
      "       'How likely is it that a recommendation you make will be acted upon?',\n",
      "       'What is your involvement in purchasing? You can choose more than 1.',\n",
      "       'Unnamed: 9', 'Unnamed: 10', 'Unnamed: 11', 'Unnamed: 12',\n",
      "       'Unnamed: 13', 'Unnamed: 14',\n",
      "       'What types of purchases are you involved in?', 'Unnamed: 16',\n",
      "       'Unnamed: 17', 'Unnamed: 18', 'Unnamed: 19', 'Unnamed: 20',\n",
      "       'What is your budget for outside expenditures (hardware, software, consulting, etc) for 2011?',\n",
      "       'Unnamed: 22', 'Unnamed: 23', 'Unnamed: 24', 'Unnamed: 25',\n",
      "       'Unnamed: 26', 'Unnamed: 27', 'Unnamed: 28',\n",
      "       'What type of project are you developing?',\n",
      "       'Which languages are you proficient in?', 'Unnamed: 31', 'Unnamed: 32',\n",
      "       'Unnamed: 33', 'Unnamed: 34', 'Unnamed: 35', 'Unnamed: 36',\n",
      "       'Unnamed: 37', 'Unnamed: 38', 'Unnamed: 39', 'Unnamed: 40',\n",
      "       'Unnamed: 41', 'Unnamed: 42',\n",
      "       'What operating system do you use the most?',\n",
      "       'Please rate your job/career satisfaction',\n",
      "       'Including bonus, what is your annual compensation in USD?',\n",
      "       'Which technology products do you own? (You can choose more than one)',\n",
      "       'Unnamed: 47', 'Unnamed: 48', 'Unnamed: 49', 'Unnamed: 50',\n",
      "       'Unnamed: 51', 'Unnamed: 52', 'Unnamed: 53', 'Unnamed: 54',\n",
      "       'Unnamed: 55', 'Unnamed: 56', 'Unnamed: 57', 'Unnamed: 58',\n",
      "       'Unnamed: 59', 'Unnamed: 60', 'Unnamed: 61', 'Unnamed: 62',\n",
      "       'In the last 12 months, how much money have you spent on personal technology-related purchases? ',\n",
      "       'Which of our sites do you frequent most?'],\n",
      "      dtype='object')\n",
      "-------------------------------------------------------------------------------\n",
      "Index(['What Country or Region do you live in?',\n",
      "       'Which US State or Territory do you live in?', 'How old are you?',\n",
      "       'How many years of IT/Programming experience do you have?',\n",
      "       'How would you best describe the industry you currently work in?',\n",
      "       'Which best describes the size of your company?',\n",
      "       'Which of the following best describes your occupation?',\n",
      "       'What is your involvement in purchasing products or services for the company you work for? (You can choose more than one)',\n",
      "       'Unnamed: 8', 'Unnamed: 9', 'Unnamed: 10', 'Unnamed: 11', 'Unnamed: 12',\n",
      "       'Unnamed: 13', 'What types of purchases are you involved in?',\n",
      "       'Unnamed: 15', 'Unnamed: 16', 'Unnamed: 17', 'Unnamed: 18',\n",
      "       'Unnamed: 19',\n",
      "       'What is your budget for outside expenditures (hardware, software, consulting, etc) for 2011?',\n",
      "       'What type of project are you developing?',\n",
      "       'Which languages are you proficient in?', 'Unnamed: 23', 'Unnamed: 24',\n",
      "       'Unnamed: 25', 'Unnamed: 26', 'Unnamed: 27', 'Unnamed: 28',\n",
      "       'Unnamed: 29', 'Unnamed: 30', 'Unnamed: 31', 'Unnamed: 32',\n",
      "       'Unnamed: 33', 'Unnamed: 34', 'Unnamed: 35', 'Unnamed: 36',\n",
      "       'Which desktop operating system do you use the most?',\n",
      "       'What best describes your career / job satisfaction? ',\n",
      "       'Including bonus, what is your annual compensation in USD?',\n",
      "       'Have you visited / Are you aware of Stack Overflow Careers?',\n",
      "       'Do you have a Stack Overflow Careers Profile?',\n",
      "       'You answered you don't have a Careers profile, can you elaborate why?',\n",
      "       'Unnamed: 43',\n",
      "       'Which technology products do you own? (You can choose more than one)',\n",
      "       'Unnamed: 45', 'Unnamed: 46', 'Unnamed: 47', 'Unnamed: 48',\n",
      "       'Unnamed: 49', 'Unnamed: 50', 'Unnamed: 51', 'Unnamed: 52',\n",
      "       'Unnamed: 53', 'Unnamed: 54', 'Unnamed: 55', 'Unnamed: 56',\n",
      "       'Unnamed: 57', 'Unnamed: 58', 'Unnamed: 59', 'Unnamed: 60',\n",
      "       'Unnamed: 61', 'Unnamed: 62', 'Unnamed: 63',\n",
      "       'In the last 12 months, how much money have you spent on personal technology-related purchases? ',\n",
      "       'Please rate the advertising you've seen on Stack Overflow',\n",
      "       'Unnamed: 66', 'Unnamed: 67', 'Unnamed: 68', 'Unnamed: 69',\n",
      "       'Unnamed: 70',\n",
      "       'What advertisers do you remember seeing on Stack Overflow?',\n",
      "       'What is your current Stack Overflow reputation?',\n",
      "       'Which of our sites do you frequent most?', 'Unnamed: 74'],\n",
      "      dtype='object')\n",
      "-------------------------------------------------------------------------------\n",
      "Index(['What Country or Region do you live in?',\n",
      "       'Which US State or Territory do you live in?', 'How old are you?',\n",
      "       'How many years of IT/Programming experience do you have?',\n",
      "       'How would you best describe the industry you currently work in?',\n",
      "       'How many people work for your company?',\n",
      "       'Which of the following best describes your occupation?',\n",
      "       'Including yourself, how many developers are employed at your company?',\n",
      "       'How large is the team that you work on?',\n",
      "       'What other departments / roles do you interact with regularly?',\n",
      "       ...\n",
      "       'Unnamed: 118', 'Unnamed: 119', 'Unnamed: 120', 'Unnamed: 121',\n",
      "       'What advertisers do you remember seeing on Stack Overflow?',\n",
      "       'What is your current Stack Overflow reputation?',\n",
      "       'How do you use Stack Overflow?', 'Unnamed: 125', 'Unnamed: 126',\n",
      "       'Unnamed: 127'],\n",
      "      dtype='object', length=128)\n",
      "-------------------------------------------------------------------------------\n",
      "Index(['What Country do you live in?', 'Unnamed: 1',\n",
      "       'Which US State or Territory do you live in?', 'How old are you?',\n",
      "       'What is your gender?',\n",
      "       'How many years of IT/Programming experience do you have?',\n",
      "       'Which of the following best describes your occupation?',\n",
      "       'Including bonus, what is your annual compensation in USD?',\n",
      "       'How would you best describe the industry you currently work in?',\n",
      "       'How many developers are employed at your company?',\n",
      "       ...\n",
      "       'Did you participate in the Apptivate contest?',\n",
      "       'What advertisers do you remember seeing on Stack Overflow?',\n",
      "       'What is your current Stack Overflow reputation?',\n",
      "       'How do you use Stack Overflow?', 'Unnamed: 114', 'Unnamed: 115',\n",
      "       'Unnamed: 116', 'Unnamed: 117', 'Unnamed: 118',\n",
      "       'How often do you find solutions to your programming problems on Stack Overflow without asking a new question?'],\n",
      "      dtype='object', length=120)\n",
      "-------------------------------------------------------------------------------\n",
      "Index(['Country', 'Age', 'Gender', 'Tabs or Spaces',\n",
      "       'Years IT / Programming Experience', 'Occupation',\n",
      "       'Desktop Operating System', 'Desktop Operating System: write-in',\n",
      "       'Current Lang & Tech: Android', 'Current Lang & Tech: Arduino',\n",
      "       ...\n",
      "       'Why use Stack Overflow: I don't use Stack Overflow',\n",
      "       'How often are Stack Overflow's answers helpful',\n",
      "       'Why answer: Help a programmer in need',\n",
      "       'Why answer: Help future programmers',\n",
      "       'Why answer: Demonstrate expertise', 'Why answer: Self promotion',\n",
      "       'Why answer: Sense of responsibility to developers',\n",
      "       'Why answer: No idea', 'Why answer: I don't answer and I don't want to',\n",
      "       'Why answer: I don't answer but I want to'],\n",
      "      dtype='object', length=222)\n",
      "-------------------------------------------------------------------------------\n",
      "Index(['Unnamed: 0', 'collector', 'country', 'un_subregion', 'so_region',\n",
      "       'age_range', 'age_midpoint', 'gender', 'self_identification',\n",
      "       'occupation', 'occupation_group', 'experience_range',\n",
      "       'experience_midpoint', 'salary_range', 'salary_midpoint',\n",
      "       'big_mac_index', 'tech_do', 'tech_want', 'aliens',\n",
      "       'programming_ability', 'employment_status', 'industry',\n",
      "       'company_size_range', 'team_size_range', 'women_on_team', 'remote',\n",
      "       'job_satisfaction', 'job_discovery', 'dev_environment',\n",
      "       'commit_frequency', 'hobby', 'dogs_vs_cats', 'desktop_os',\n",
      "       'unit_testing', 'rep_range', 'visit_frequency', 'why_learn_new_tech',\n",
      "       'education', 'open_to_new_job', 'new_job_value', 'job_search_annoyance',\n",
      "       'interview_likelihood', 'how_to_improve_interview_process',\n",
      "       'star_wars_vs_star_trek', 'agree_tech', 'agree_notice',\n",
      "       'agree_problemsolving', 'agree_diversity', 'agree_adblocker',\n",
      "       'agree_alcohol', 'agree_loveboss', 'agree_nightcode', 'agree_legacy',\n",
      "       'agree_mars', 'important_variety', 'important_control',\n",
      "       'important_sameend', 'important_newtech', 'important_buildnew',\n",
      "       'important_buildexisting', 'important_promotion',\n",
      "       'important_companymission', 'important_wfh', 'important_ownoffice',\n",
      "       'developer_challenges', 'why_stack_overflow'],\n",
      "      dtype='object')\n",
      "-------------------------------------------------------------------------------\n",
      "Index(['Respondent', 'Professional', 'ProgramHobby', 'Country', 'University',\n",
      "       'EmploymentStatus', 'FormalEducation', 'MajorUndergrad', 'HomeRemote',\n",
      "       'CompanySize',\n",
      "       ...\n",
      "       'StackOverflowMakeMoney', 'Gender', 'HighestEducationParents', 'Race',\n",
      "       'SurveyLong', 'QuestionsInteresting', 'QuestionsConfusing',\n",
      "       'InterestedAnswers', 'Salary', 'ExpectedSalary'],\n",
      "      dtype='object', length=154)\n",
      "-------------------------------------------------------------------------------\n",
      "Index(['Respondent', 'Hobby', 'OpenSource', 'Country', 'Student', 'Employment',\n",
      "       'FormalEducation', 'UndergradMajor', 'CompanySize', 'DevType',\n",
      "       ...\n",
      "       'Exercise', 'Gender', 'SexualOrientation', 'EducationParents',\n",
      "       'RaceEthnicity', 'Age', 'Dependents', 'MilitaryUS', 'SurveyTooLong',\n",
      "       'SurveyEasy'],\n",
      "      dtype='object', length=129)\n",
      "-------------------------------------------------------------------------------\n",
      "Index(['Respondent', 'MainBranch', 'Hobbyist', 'OpenSourcer', 'OpenSource',\n",
      "       'Employment', 'Country', 'Student', 'EdLevel', 'UndergradMajor',\n",
      "       'EduOther', 'OrgSize', 'DevType', 'YearsCode', 'Age1stCode',\n",
      "       'YearsCodePro', 'CareerSat', 'JobSat', 'MgrIdiot', 'MgrMoney',\n",
      "       'MgrWant', 'JobSeek', 'LastHireDate', 'LastInt', 'FizzBuzz',\n",
      "       'JobFactors', 'ResumeUpdate', 'CurrencySymbol', 'CurrencyDesc',\n",
      "       'CompTotal', 'CompFreq', 'ConvertedComp', 'WorkWeekHrs', 'WorkPlan',\n",
      "       'WorkChallenge', 'WorkRemote', 'WorkLoc', 'ImpSyn', 'CodeRev',\n",
      "       'CodeRevHrs', 'UnitTests', 'PurchaseHow', 'PurchaseWhat',\n",
      "       'LanguageWorkedWith', 'LanguageDesireNextYear', 'DatabaseWorkedWith',\n",
      "       'DatabaseDesireNextYear', 'PlatformWorkedWith',\n",
      "       'PlatformDesireNextYear', 'WebFrameWorkedWith',\n",
      "       'WebFrameDesireNextYear', 'MiscTechWorkedWith',\n",
      "       'MiscTechDesireNextYear', 'DevEnviron', 'OpSys', 'Containers',\n",
      "       'BlockchainOrg', 'BlockchainIs', 'BetterLife', 'ITperson', 'OffOn',\n",
      "       'SocialMedia', 'Extraversion', 'ScreenName', 'SOVisit1st',\n",
      "       'SOVisitFreq', 'SOVisitTo', 'SOFindAnswer', 'SOTimeSaved',\n",
      "       'SOHowMuchTime', 'SOAccount', 'SOPartFreq', 'SOJobs', 'EntTeams',\n",
      "       'SOComm', 'WelcomeChange', 'SONewContent', 'Age', 'Gender', 'Trans',\n",
      "       'Sexuality', 'Ethnicity', 'Dependents', 'SurveyLength', 'SurveyEase'],\n",
      "      dtype='object')\n"
     ]
    }
   ],
   "source": [
    "for df in dfs:\n",
    "    print(\"-------------------------------------------------------------------------------\")\n",
    "    print(df.columns)\n"
   ]
  },
  {
   "cell_type": "code",
   "execution_count": 50,
   "metadata": {},
   "outputs": [
    {
     "data": {
      "text/plain": [
       "United States of America    1037\n",
       "Other Europe                 451\n",
       "United Kingdom               314\n",
       "Canada                       156\n",
       "Australia                    112\n",
       "Germany                      106\n",
       "India                         95\n",
       "South America                 91\n",
       "Other Asia                    81\n",
       "Middle East                   73\n",
       "France                        60\n",
       "Netherlands                   55\n",
       "Africa                        43\n",
       "Russia                        41\n",
       "Italy                         35\n",
       "Australasia                   29\n",
       "Mexico                        20\n",
       "North America (Other)          8\n",
       "Central America                6\n",
       "Response                       1\n",
       "Name: What Country or Region do you live in?, dtype: int64"
      ]
     },
     "execution_count": 50,
     "metadata": {},
     "output_type": "execute_result"
    }
   ],
   "source": [
    "df11['What Country or Region do you live in?'].value_counts()"
   ]
  },
  {
   "cell_type": "code",
   "execution_count": 51,
   "metadata": {},
   "outputs": [
    {
     "data": {
      "text/plain": [
       "United States of America    1785\n",
       "Other Europe                1168\n",
       "United Kingdom               589\n",
       "India                        537\n",
       "Canada                       348\n",
       "Germany                      273\n",
       "Other Asia                   221\n",
       "Australia                    185\n",
       "South America                182\n",
       "Russia                       162\n",
       "Netherlands                  136\n",
       "France                       135\n",
       "Middle East                  124\n",
       "Italy                        110\n",
       "Australasia                  105\n",
       "Africa                        92\n",
       "Mexico                        32\n",
       "North America (Other)         23\n",
       "Central America               21\n",
       "Bangladesh                    15\n",
       "Response                       1\n",
       "Name: What Country or Region do you live in?, dtype: int64"
      ]
     },
     "execution_count": 51,
     "metadata": {},
     "output_type": "execute_result"
    }
   ],
   "source": [
    "df12['What Country or Region do you live in?'].value_counts()"
   ]
  },
  {
   "cell_type": "code",
   "execution_count": 52,
   "metadata": {},
   "outputs": [
    {
     "data": {
      "text/plain": [
       "United States of America    3181\n",
       "Other Europe                1626\n",
       "United Kingdom               935\n",
       "India                        737\n",
       "Germany                      583\n",
       "Canada                       490\n",
       "Other Asia                   367\n",
       "Australia                    246\n",
       "Russia                       241\n",
       "France                       232\n",
       "South America                225\n",
       "Netherlands                  207\n",
       "Middle East                  198\n",
       "Italy                        151\n",
       "Australasia                  118\n",
       "Africa                       115\n",
       "Mexico                        29\n",
       "North America (Other)         26\n",
       "Bangladesh                    17\n",
       "Central America               17\n",
       "Response                       1\n",
       "Name: What Country or Region do you live in?, dtype: int64"
      ]
     },
     "execution_count": 52,
     "metadata": {},
     "output_type": "execute_result"
    }
   ],
   "source": [
    "df13['What Country or Region do you live in?'].value_counts()"
   ]
  },
  {
   "cell_type": "code",
   "execution_count": 56,
   "metadata": {},
   "outputs": [
    {
     "data": {
      "text/plain": [
       "United States             2128\n",
       "India                      881\n",
       "United Kingdom             721\n",
       "Germany                    455\n",
       "Canada                     306\n",
       "France                     198\n",
       "Australia                  182\n",
       "Russia                     166\n",
       "Netherlands                154\n",
       "Poland                     131\n",
       "Italy                      125\n",
       "Israel                     117\n",
       "Sweden                      99\n",
       "Spain                       97\n",
       "Brazil                      96\n",
       "Switzerland                 83\n",
       "Ukraine                     69\n",
       "Turkey                      68\n",
       "Austria                     66\n",
       "Romania                     63\n",
       "Belgium                     62\n",
       "Denmark                     56\n",
       "China                       54\n",
       "Ireland                     53\n",
       "Greece                      48\n",
       "Pakistan                    48\n",
       "Finland                     47\n",
       "New Zealand                 46\n",
       "Czech Republic              46\n",
       "Bulgaria                    42\n",
       "                          ... \n",
       "Tunisia                      8\n",
       "Dominican Republic           8\n",
       "Other                        8\n",
       "Jordan                       7\n",
       "Georgia                      7\n",
       "Nepal                        6\n",
       "Morocco                      6\n",
       "Uruguay                      6\n",
       "Bosnia and Herzegovina       6\n",
       "Kazakhstan                   6\n",
       "Bolivia                      5\n",
       "Iceland                      5\n",
       "Moldova                      5\n",
       "Venezuela                    5\n",
       "Ecuador                      4\n",
       "Myanmar [Burma]              4\n",
       "Malta                        4\n",
       "Palestine                    3\n",
       "Costa Rica                   3\n",
       "Cyprus                       3\n",
       "Puerto Rico                  3\n",
       "Kuwait                       2\n",
       "Ghana                        2\n",
       "El Salvador                  2\n",
       "Guatemala                    2\n",
       "Cambodia                     2\n",
       "Luxembourg                   2\n",
       "Nigeria                      1\n",
       "Kenya                        1\n",
       "Response                     1\n",
       "Name: What Country do you live in?, Length: 97, dtype: int64"
      ]
     },
     "execution_count": 56,
     "metadata": {},
     "output_type": "execute_result"
    }
   ],
   "source": [
    "df14['What Country do you live in?'].value_counts()"
   ]
  },
  {
   "cell_type": "code",
   "execution_count": 59,
   "metadata": {},
   "outputs": [
    {
     "data": {
      "text/plain": [
       "United States             4745\n",
       "India                     2461\n",
       "United Kingdom            2403\n",
       "Germany                   1976\n",
       "Poland                     833\n",
       "Canada                     828\n",
       "France                     776\n",
       "Russian Federation         650\n",
       "Australia                  618\n",
       "Netherlands                614\n",
       "Spain                      605\n",
       "Sweden                     540\n",
       "Italy                      506\n",
       "Switzerland                393\n",
       "Brazil                     367\n",
       "Austria                    300\n",
       "Denmark                    278\n",
       "Iran                       264\n",
       "Belgium                    263\n",
       "China                      252\n",
       "Czech Republic             243\n",
       "Finland                    242\n",
       "Portugal                   224\n",
       "Ukraine                    222\n",
       "Turkey                     220\n",
       "Ireland {Republic}         193\n",
       "Israel                     192\n",
       "Romania                    185\n",
       "Mexico                     179\n",
       "Hungary                    169\n",
       "                          ... \n",
       "Laos                         3\n",
       "Tanzania                     2\n",
       "Brunei                       2\n",
       "Turkmenistan                 2\n",
       "Bhutan                       2\n",
       "Somalia                      2\n",
       "Haiti                        2\n",
       "Bahamas                      2\n",
       "Kosovo                       2\n",
       "Namibia                      2\n",
       "Oman                         2\n",
       "Mauritania                   1\n",
       "Liechtenstein                1\n",
       "Vatican City                 1\n",
       "Mozambique                   1\n",
       "Djibouti                     1\n",
       "South Sudan                  1\n",
       "Solomon Islands              1\n",
       "Rwanda                       1\n",
       "Senegal                      1\n",
       "Congo {Democratic Rep}       1\n",
       "Botswana                     1\n",
       "Sierra Leone                 1\n",
       "San Marino                   1\n",
       "Burkina                      1\n",
       "Zambia                       1\n",
       "Togo                         1\n",
       "Tajikistan                   1\n",
       "Benin                        1\n",
       "Vanuatu                      1\n",
       "Name: Country, Length: 156, dtype: int64"
      ]
     },
     "execution_count": 59,
     "metadata": {},
     "output_type": "execute_result"
    }
   ],
   "source": [
    "df15['Country'].value_counts()"
   ]
  },
  {
   "cell_type": "code",
   "execution_count": 61,
   "metadata": {},
   "outputs": [
    {
     "data": {
      "text/plain": [
       "United States          13539\n",
       "United Kingdom          4573\n",
       "India                   4193\n",
       "Germany                 3883\n",
       "Canada                  2024\n",
       "Poland                  1971\n",
       "France                  1626\n",
       "Russian Federation      1419\n",
       "Sweden                  1328\n",
       "Netherlands             1188\n",
       "Italy                   1137\n",
       "Australia               1117\n",
       "Spain                   1026\n",
       "Brazil                  1015\n",
       "Romania                  942\n",
       "Ukraine                  802\n",
       "Denmark                  606\n",
       "Switzerland              574\n",
       "Belgium                  543\n",
       "Portugal                 496\n",
       "Austria                  482\n",
       "South Africa             479\n",
       "Turkey                   445\n",
       "Mexico                   444\n",
       "Finland                  440\n",
       "Israel                   439\n",
       "Ireland {Republic}       427\n",
       "Greece                   393\n",
       "Czech Republic           372\n",
       "Iran                     372\n",
       "                       ...  \n",
       "Benin                      2\n",
       "Bhutan                     2\n",
       "Vatican City               2\n",
       "Zambia                     2\n",
       "Monaco                     1\n",
       "Grenada                    1\n",
       "Rwanda                     1\n",
       "Seychelles                 1\n",
       "Burundi                    1\n",
       "San Marino                 1\n",
       "Vanuatu                    1\n",
       "Sao Tome & Principe        1\n",
       "Burkina                    1\n",
       "Mauritania                 1\n",
       "Gabon                      1\n",
       "Palau                      1\n",
       "Togo                       1\n",
       "Tajikistan                 1\n",
       "Central African Rep        1\n",
       "Mozambique                 1\n",
       "Antarctica                 1\n",
       "East Timor                 1\n",
       "Dominica                   1\n",
       "Guinea                     1\n",
       "Chad                       1\n",
       "Sierra Leone               1\n",
       "Niger                      1\n",
       "St Kitts & Nevis           1\n",
       "Oman                       1\n",
       "Somalia                    1\n",
       "Name: country, Length: 175, dtype: int64"
      ]
     },
     "execution_count": 61,
     "metadata": {},
     "output_type": "execute_result"
    }
   ],
   "source": [
    "df16['country'].value_counts()"
   ]
  },
  {
   "cell_type": "code",
   "execution_count": 63,
   "metadata": {},
   "outputs": [
    {
     "data": {
      "text/plain": [
       "United States                     11455\n",
       "India                              5197\n",
       "United Kingdom                     4395\n",
       "Germany                            4143\n",
       "Canada                             2233\n",
       "France                             1740\n",
       "Poland                             1290\n",
       "Australia                           913\n",
       "Russian Federation                  873\n",
       "Spain                               864\n",
       "Netherlands                         855\n",
       "Italy                               781\n",
       "Brazil                              777\n",
       "Sweden                              611\n",
       "Switzerland                         595\n",
       "Israel                              575\n",
       "Romania                             561\n",
       "Iran                                507\n",
       "Austria                             477\n",
       "Pakistan                            454\n",
       "Czech Republic                      411\n",
       "Belgium                             404\n",
       "South Africa                        380\n",
       "Turkey                              363\n",
       "Ukraine                             356\n",
       "Mexico                              351\n",
       "Ireland                             345\n",
       "Hungary                             332\n",
       "Philippines                         328\n",
       "Slovenia                            303\n",
       "                                  ...  \n",
       "Polynesia (French)                    2\n",
       "Saint Lucia                           2\n",
       "Monaco                                1\n",
       "Saint Helena                          1\n",
       "Djibouti                              1\n",
       "Cook Islands                          1\n",
       "Northern Mariana Islands              1\n",
       "Montserrat                            1\n",
       "Christmas Island                      1\n",
       "S. Georgia & S. Sandwich Isls.        1\n",
       "Pitcairn Island                       1\n",
       "Guam                                  1\n",
       "Falkland Islands                      1\n",
       "French Guyana                         1\n",
       "Bahamas                               1\n",
       "Mali                                  1\n",
       "Guinea                                1\n",
       "Cape Verde                            1\n",
       "Lesotho                               1\n",
       "Turkmenistan                          1\n",
       "Gibraltar                             1\n",
       "Vatican City State                    1\n",
       "Comoros                               1\n",
       "Seychelles                            1\n",
       "Macau                                 1\n",
       "Gabon                                 1\n",
       "Burkina Faso                          1\n",
       "Chad                                  1\n",
       "Heard and McDonald Islands            1\n",
       "British Indian Ocean Territory        1\n",
       "Name: Country, Length: 201, dtype: int64"
      ]
     },
     "execution_count": 63,
     "metadata": {},
     "output_type": "execute_result"
    }
   ],
   "source": [
    "df17['Country'].value_counts()"
   ]
  },
  {
   "cell_type": "code",
   "execution_count": 64,
   "metadata": {},
   "outputs": [
    {
     "data": {
      "text/plain": [
       "United States                            20309\n",
       "India                                    13721\n",
       "Germany                                   6459\n",
       "United Kingdom                            6221\n",
       "Canada                                    3393\n",
       "Russian Federation                        2869\n",
       "France                                    2572\n",
       "Brazil                                    2505\n",
       "Poland                                    2122\n",
       "Australia                                 2018\n",
       "Netherlands                               1841\n",
       "Spain                                     1769\n",
       "Italy                                     1535\n",
       "Ukraine                                   1279\n",
       "Sweden                                    1164\n",
       "Pakistan                                  1050\n",
       "China                                     1037\n",
       "Switzerland                               1010\n",
       "Turkey                                    1004\n",
       "Israel                                    1003\n",
       "Iran, Islamic Republic of...               921\n",
       "Romania                                    793\n",
       "Austria                                    788\n",
       "Czech Republic                             784\n",
       "Belgium                                    743\n",
       "Mexico                                     736\n",
       "Bangladesh                                 697\n",
       "Denmark                                    653\n",
       "South Africa                               637\n",
       "Indonesia                                  630\n",
       "                                         ...  \n",
       "North Korea                                  4\n",
       "Swaziland                                    3\n",
       "Liberia                                      3\n",
       "Mauritania                                   3\n",
       "Guinea                                       3\n",
       "Cape Verde                                   3\n",
       "Central African Republic                     2\n",
       "Dominica                                     2\n",
       "Guyana                                       2\n",
       "Palau                                        2\n",
       "Lesotho                                      2\n",
       "Suriname                                     2\n",
       "Micronesia, Federated States of...           2\n",
       "Democratic People's Republic of Korea        2\n",
       "Niger                                        2\n",
       "Marshall Islands                             2\n",
       "Djibouti                                     1\n",
       "Belize                                       1\n",
       "Brunei Darussalam                            1\n",
       "Timor-Leste                                  1\n",
       "Eritrea                                      1\n",
       "Nauru                                        1\n",
       "Solomon Islands                              1\n",
       "Sierra Leone                                 1\n",
       "Mali                                         1\n",
       "Guinea-Bissau                                1\n",
       "San Marino                                   1\n",
       "Burundi                                      1\n",
       "Grenada                                      1\n",
       "Saint Lucia                                  1\n",
       "Name: Country, Length: 183, dtype: int64"
      ]
     },
     "execution_count": 64,
     "metadata": {},
     "output_type": "execute_result"
    }
   ],
   "source": [
    "df18['Country'].value_counts()"
   ]
  },
  {
   "cell_type": "code",
   "execution_count": 65,
   "metadata": {},
   "outputs": [
    {
     "data": {
      "text/plain": [
       "United States                            20949\n",
       "India                                     9061\n",
       "Germany                                   5866\n",
       "United Kingdom                            5737\n",
       "Canada                                    3395\n",
       "France                                    2391\n",
       "Brazil                                    1948\n",
       "Poland                                    1922\n",
       "Australia                                 1903\n",
       "Netherlands                               1852\n",
       "Russian Federation                        1694\n",
       "Spain                                     1604\n",
       "Italy                                     1576\n",
       "Sweden                                    1274\n",
       "Switzerland                                978\n",
       "Israel                                     952\n",
       "Turkey                                     949\n",
       "Pakistan                                   923\n",
       "Ukraine                                    868\n",
       "Austria                                    839\n",
       "Czech Republic                             764\n",
       "Romania                                    760\n",
       "Iran                                       738\n",
       "Belgium                                    727\n",
       "China                                      664\n",
       "Bulgaria                                   659\n",
       "Mexico                                     642\n",
       "South Africa                               627\n",
       "Denmark                                    617\n",
       "Bangladesh                                 605\n",
       "                                         ...  \n",
       "Lesotho                                      3\n",
       "Cape Verde                                   3\n",
       "Guyana                                       3\n",
       "Liechtenstein                                3\n",
       "Belize                                       3\n",
       "Lao People's Democratic Republic             3\n",
       "Mali                                         3\n",
       "Barbados                                     3\n",
       "Bahamas                                      3\n",
       "Democratic People's Republic of Korea        3\n",
       "Guinea                                       3\n",
       "Djibouti                                     2\n",
       "San Marino                                   2\n",
       "Malawi                                       2\n",
       "Liberia                                      2\n",
       "Seychelles                                   2\n",
       "Bhutan                                       2\n",
       "Sierra Leone                                 2\n",
       "Gabon                                        2\n",
       "Chad                                         1\n",
       "Brunei Darussalam                            1\n",
       "Tonga                                        1\n",
       "Saint Vincent and the Grenadines             1\n",
       "Timor-Leste                                  1\n",
       "Sao Tome and Principe                        1\n",
       "Niger                                        1\n",
       "Saint Kitts and Nevis                        1\n",
       "North Korea                                  1\n",
       "Dominica                                     1\n",
       "Papua New Guinea                             1\n",
       "Name: Country, Length: 179, dtype: int64"
      ]
     },
     "execution_count": 65,
     "metadata": {},
     "output_type": "execute_result"
    }
   ],
   "source": [
    "df19['Country'].value_counts()"
   ]
  },
  {
   "cell_type": "code",
   "execution_count": null,
   "metadata": {},
   "outputs": [],
   "source": []
  }
 ],
 "metadata": {
  "kernelspec": {
   "display_name": "Python 3",
   "language": "python",
   "name": "python3"
  },
  "language_info": {
   "codemirror_mode": {
    "name": "ipython",
    "version": 3
   },
   "file_extension": ".py",
   "mimetype": "text/x-python",
   "name": "python",
   "nbconvert_exporter": "python",
   "pygments_lexer": "ipython3",
   "version": "3.7.3"
  }
 },
 "nbformat": 4,
 "nbformat_minor": 4
}
