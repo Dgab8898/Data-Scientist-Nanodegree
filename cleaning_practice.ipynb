{
 "cells": [
  {
   "cell_type": "markdown",
   "metadata": {},
   "source": [
    "# Cleaning Quiz: Udacity's Course Catalog\n",
    "It's your turn! Udacity's [course catalog page](https://www.udacity.com/courses/all) has changed since the last video was filmed. One notable change is the introduction of  _schools_.\n",
    "\n",
    "In this activity, you're going to perform similar actions with BeautifulSoup to extract the following information from each course listing on the page:\n",
    "1. The course name - e.g. \"Data Analyst\"\n",
    "2. The school the course belongs to - e.g. \"School of Data Science\"\n",
    "\n",
    "**Note: All solution notebooks can be found by clicking on the Jupyter icon on the top left of this workspace.**"
   ]
  },
  {
   "cell_type": "markdown",
   "metadata": {},
   "source": [
    "### Step 1: Get text from Udacity's course catalog web page\n",
    "You can use the `requests` library to do this.\n",
    "\n",
    "Outputting all the javascript, CSS, and text may overload the space available to load this notebook, so we omit a print statement here."
   ]
  },
  {
   "cell_type": "code",
   "execution_count": 34,
   "metadata": {},
   "outputs": [],
   "source": [
    "# import statements\n",
    "import requests\n",
    "from bs4 import BeautifulSoup as bs"
   ]
  },
  {
   "cell_type": "code",
   "execution_count": 35,
   "metadata": {},
   "outputs": [],
   "source": [
    "# fetch web page\n",
    "r = requests.get(\"https://www.udacity.com/courses/all\")"
   ]
  },
  {
   "cell_type": "markdown",
   "metadata": {},
   "source": [
    "### Step 2: Use BeautifulSoup to remove HTML tags\n",
    "Use `\"lxml\"` rather than `\"html5lib\"`.\n",
    "\n",
    "Again, printing this entire result may overload the space available to load this notebook, so we omit a print statement here."
   ]
  },
  {
   "cell_type": "code",
   "execution_count": 36,
   "metadata": {},
   "outputs": [],
   "source": [
    "soup = bs(r.text,\"lxml\")"
   ]
  },
  {
   "cell_type": "markdown",
   "metadata": {},
   "source": [
    "### Step 3: Find all course summaries\n",
    "Use the BeautifulSoup's `find_all` method to select based on tag type and class name. Just like in the video, you can right click on the item, and click \"Inspect\" to view its html on a web page."
   ]
  },
  {
   "cell_type": "code",
   "execution_count": 37,
   "metadata": {},
   "outputs": [
    {
     "name": "stdout",
     "output_type": "stream",
     "text": [
      "Number of Courses: 234\n"
     ]
    }
   ],
   "source": [
    "# Find all course summaries\n",
    "summaries = soup.findAll(\"div\",{\"class\":\"course-summary-card\"})\n",
    "print('Number of Courses:', len(summaries))"
   ]
  },
  {
   "cell_type": "markdown",
   "metadata": {},
   "source": [
    "### Step 4: Inspect the first summary to find selectors for the course name and school\n",
    "Tip: `.prettify()` is a super helpful method BeautifulSoup provides to output html in a nicely indented form! Make sure to use `print()` to ensure whitespace is displayed properly."
   ]
  },
  {
   "cell_type": "code",
   "execution_count": 38,
   "metadata": {},
   "outputs": [
    {
     "name": "stdout",
     "output_type": "stream",
     "text": [
      "<div _ngcontent-sc207=\"\" class=\"course-summary-card row row-gap-medium catalog-card nanodegree-card ng-star-inserted\">\n",
      " <ir-catalog-card _ngcontent-sc207=\"\" _nghost-sc210=\"\">\n",
      "  <div _ngcontent-sc210=\"\" class=\"card-wrapper is-collapsed\">\n",
      "   <div _ngcontent-sc210=\"\" class=\"card__inner card mb-0\">\n",
      "    <div _ngcontent-sc210=\"\" class=\"card__inner--upper\">\n",
      "     <div _ngcontent-sc210=\"\" class=\"image_wrapper hidden-md-down\">\n",
      "      <a _ngcontent-sc210=\"\" href=\"/course/ux-designer-nanodegree--nd578\">\n",
      "       <!-- -->\n",
      "       <div _ngcontent-sc210=\"\" class=\"image-container ng-star-inserted\" style=\"background-image:url(https://d20vrrgs8k4bvw.cloudfront.net/images/degrees/nd578/catalog-card.jpg);\">\n",
      "        <div _ngcontent-sc210=\"\" class=\"image-overlay\">\n",
      "        </div>\n",
      "       </div>\n",
      "      </a>\n",
      "      <!-- -->\n",
      "     </div>\n",
      "     <div _ngcontent-sc210=\"\" class=\"card-content\">\n",
      "      <!-- -->\n",
      "      <span _ngcontent-sc210=\"\" class=\"tag tag--new card ng-star-inserted\">\n",
      "       New\n",
      "      </span>\n",
      "      <!-- -->\n",
      "      <div _ngcontent-sc210=\"\" class=\"category-wrapper\">\n",
      "       <span _ngcontent-sc210=\"\" class=\"mobile-icon\">\n",
      "       </span>\n",
      "       <!-- -->\n",
      "       <h4 _ngcontent-sc210=\"\" class=\"category ng-star-inserted\">\n",
      "        School of Business\n",
      "       </h4>\n",
      "      </div>\n",
      "      <h3 _ngcontent-sc210=\"\" class=\"card-heading\">\n",
      "       <a _ngcontent-sc210=\"\" class=\"capitalize\" href=\"/course/ux-designer-nanodegree--nd578\">\n",
      "        UX Designer\n",
      "       </a>\n",
      "      </h3>\n",
      "      <div _ngcontent-sc210=\"\" class=\"right-sub\">\n",
      "       <!-- -->\n",
      "       <div _ngcontent-sc210=\"\" class=\"skills ng-star-inserted\">\n",
      "        <h4 _ngcontent-sc210=\"\">\n",
      "         Skills Covered\n",
      "        </h4>\n",
      "        <span _ngcontent-sc210=\"\" class=\"truncate-content\">\n",
      "         <!-- -->\n",
      "         <span _ngcontent-sc210=\"\" class=\"ng-star-inserted\">\n",
      "          User Research,\n",
      "         </span>\n",
      "         <span _ngcontent-sc210=\"\" class=\"ng-star-inserted\">\n",
      "          User Experience,\n",
      "         </span>\n",
      "         <span _ngcontent-sc210=\"\" class=\"ng-star-inserted\">\n",
      "          Prototyping,\n",
      "         </span>\n",
      "         <span _ngcontent-sc210=\"\" class=\"ng-star-inserted\">\n",
      "          Interactive Design,\n",
      "         </span>\n",
      "         <span _ngcontent-sc210=\"\" class=\"ng-star-inserted\">\n",
      "          User Interface Design,\n",
      "         </span>\n",
      "         <span _ngcontent-sc210=\"\" class=\"ng-star-inserted\">\n",
      "          Usability Testing\n",
      "         </span>\n",
      "        </span>\n",
      "       </div>\n",
      "       <!-- -->\n",
      "       <div _ngcontent-sc210=\"\" class=\"hidden-md-up level\">\n",
      "        <span _ngcontent-sc210=\"\" class=\"course-level course-level-beginner\" classname=\"course-level course-level-beginner\">\n",
      "        </span>\n",
      "        <span _ngcontent-sc210=\"\" class=\"capitalize\">\n",
      "         beginner\n",
      "        </span>\n",
      "       </div>\n",
      "      </div>\n",
      "     </div>\n",
      "    </div>\n",
      "    <div _ngcontent-sc210=\"\" class=\"card__inner--lower hidden-sm-down\">\n",
      "     <div _ngcontent-sc210=\"\" class=\"left uppercase blue expander pointer\">\n",
      "      <!-- -->\n",
      "      <span _ngcontent-sc210=\"\" class=\"ng-star-inserted\">\n",
      "       Nanodegree Details\n",
      "      </span>\n",
      "      <!-- -->\n",
      "     </div>\n",
      "     <div _ngcontent-sc210=\"\" class=\"right\">\n",
      "      <!-- -->\n",
      "      <span _ngcontent-sc210=\"\" class=\"caption text-right level ng-star-inserted\">\n",
      "       <span _ngcontent-sc210=\"\" class=\"course-level course-level-beginner\" classname=\"course-level course-level-beginner\">\n",
      "       </span>\n",
      "       <span _ngcontent-sc210=\"\" class=\"capitalize\">\n",
      "        beginner\n",
      "       </span>\n",
      "      </span>\n",
      "     </div>\n",
      "    </div>\n",
      "   </div>\n",
      "   <div _ngcontent-sc210=\"\" class=\"card__expander\">\n",
      "    <div _ngcontent-sc210=\"\" class=\"card__expander--summary mb-1\">\n",
      "     <!-- -->\n",
      "     <span _ngcontent-sc210=\"\" class=\"ng-star-inserted\">\n",
      "      Design impactful user experiences for products in today’s digital world.\n",
      "     </span>\n",
      "    </div>\n",
      "    <hr _ngcontent-sc210=\"\"/>\n",
      "    <div _ngcontent-sc210=\"\" class=\"card__expander--details\">\n",
      "     <div _ngcontent-sc210=\"\" class=\"rating\">\n",
      "      <!-- -->\n",
      "     </div>\n",
      "     <a _ngcontent-sc210=\"\" class=\"button--primary btn\" href=\"/course/ux-designer-nanodegree--nd578\">\n",
      "      Learn More\n",
      "     </a>\n",
      "    </div>\n",
      "   </div>\n",
      "  </div>\n",
      " </ir-catalog-card>\n",
      " <!-- -->\n",
      "</div>\n",
      "\n"
     ]
    }
   ],
   "source": [
    "# print the first summary in summaries\n",
    "print(summaries[0].prettify())"
   ]
  },
  {
   "cell_type": "markdown",
   "metadata": {},
   "source": [
    "Look for selectors that contain the courses title and school name text you want to extract. Then, use the `select_one` method on the summary object to pull out the html with those selectors. Afterwards, don't forget to do some extra cleaning to isolate the names (get rid of unnecessary html), as you saw in the last video."
   ]
  },
  {
   "cell_type": "code",
   "execution_count": 39,
   "metadata": {},
   "outputs": [
    {
     "data": {
      "text/plain": [
       "'UX Designer'"
      ]
     },
     "execution_count": 39,
     "metadata": {},
     "output_type": "execute_result"
    }
   ],
   "source": [
    "# Extract course title\n",
    "summaries[0].select_one(\"h3\").get_text()\n"
   ]
  },
  {
   "cell_type": "code",
   "execution_count": 40,
   "metadata": {},
   "outputs": [
    {
     "data": {
      "text/plain": [
       "' School of Business '"
      ]
     },
     "execution_count": 40,
     "metadata": {},
     "output_type": "execute_result"
    }
   ],
   "source": [
    "# Extract school\n",
    "summaries[0].select_one(\"h4\").get_text()\n"
   ]
  },
  {
   "cell_type": "markdown",
   "metadata": {},
   "source": [
    "### Step 5: Collect names and schools of ALL course listings\n",
    "Reuse your code from the previous step, but now in a loop to extract the name and school from every course summary in `summaries`!"
   ]
  },
  {
   "cell_type": "code",
   "execution_count": 41,
   "metadata": {},
   "outputs": [
    {
     "ename": "SyntaxError",
     "evalue": "unexpected EOF while parsing (<ipython-input-41-a7bf87cfaa66>, line 6)",
     "output_type": "error",
     "traceback": [
      "\u001b[0;36m  File \u001b[0;32m\"<ipython-input-41-a7bf87cfaa66>\"\u001b[0;36m, line \u001b[0;32m6\u001b[0m\n\u001b[0;31m    courses.append((name,school)\u001b[0m\n\u001b[0m                                ^\u001b[0m\n\u001b[0;31mSyntaxError\u001b[0m\u001b[0;31m:\u001b[0m unexpected EOF while parsing\n"
     ]
    }
   ],
   "source": [
    "courses = []\n",
    "for summary in summaries:\n",
    "    # append name and school of each summary to courses list\n",
    "    name = summary.select_one(\"h3\").get_text()\n",
    "    school = summary.select_one(\"h4\").get_text()\n",
    "    courses.append((name,school)\n",
    "\n"
   ]
  },
  {
   "cell_type": "code",
   "execution_count": null,
   "metadata": {},
   "outputs": [],
   "source": [
    "# display results\n",
    "print(len(courses), \"course summaries found. Sample:\")\n",
    "courses[:20]"
   ]
  },
  {
   "cell_type": "code",
   "execution_count": null,
   "metadata": {},
   "outputs": [],
   "source": []
  }
 ],
 "metadata": {
  "kernelspec": {
   "display_name": "Python 3",
   "language": "python",
   "name": "python3"
  },
  "language_info": {
   "codemirror_mode": {
    "name": "ipython",
    "version": 3
   },
   "file_extension": ".py",
   "mimetype": "text/x-python",
   "name": "python",
   "nbconvert_exporter": "python",
   "pygments_lexer": "ipython3",
   "version": "3.6.3"
  }
 },
 "nbformat": 4,
 "nbformat_minor": 2
}
